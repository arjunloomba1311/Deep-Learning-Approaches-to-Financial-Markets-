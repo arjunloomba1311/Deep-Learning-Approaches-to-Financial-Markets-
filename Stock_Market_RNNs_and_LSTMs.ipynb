{
  "nbformat": 4,
  "nbformat_minor": 0,
  "metadata": {
    "kernelspec": {
      "display_name": "Python 3",
      "language": "python",
      "name": "python3"
    },
    "language_info": {
      "codemirror_mode": {
        "name": "ipython",
        "version": 3
      },
      "file_extension": ".py",
      "mimetype": "text/x-python",
      "name": "python",
      "nbconvert_exporter": "python",
      "pygments_lexer": "ipython3",
      "version": "3.7.6"
    },
    "colab": {
      "name": "Stock_Market_RNNs_and_LSTMs.ipynb",
      "provenance": [],
      "collapsed_sections": [],
      "include_colab_link": true
    },
    "accelerator": "GPU"
  },
  "cells": [
    {
      "cell_type": "markdown",
      "metadata": {
        "id": "view-in-github",
        "colab_type": "text"
      },
      "source": [
        "<a href=\"https://colab.research.google.com/github/arjunloomba1311/Deep-Learning-Approaches-to-Financial-Markets-/blob/main/Stock_Market_RNNs_and_LSTMs.ipynb\" target=\"_parent\"><img src=\"https://colab.research.google.com/assets/colab-badge.svg\" alt=\"Open In Colab\"/></a>"
      ]
    },
    {
      "cell_type": "code",
      "metadata": {
        "id": "Og3cRWsXPp85",
        "colab": {
          "base_uri": "https://localhost:8080/",
          "height": 71
        },
        "outputId": "5910a0a9-1120-451f-ead1-b78dcc481e61"
      },
      "source": [
        "import pandas as pd \n",
        "import numpy as np \n",
        "import matplotlib.pyplot as plt \n",
        "import seaborn as sns\n",
        "%matplotlib inline \n",
        "\n",
        "from pandas_datareader import data, wb\n",
        "\n",
        "from plotly.offline import download_plotlyjs, init_notebook_mode, plot, iplot\n",
        "\n",
        "import cufflinks as cf\n",
        "# couldnt use the best data service for financial data, quandl, since it doesn't give all EOD stock price data\n",
        "# for free"
      ],
      "execution_count": null,
      "outputs": [
        {
          "output_type": "stream",
          "text": [
            "/usr/local/lib/python3.6/dist-packages/statsmodels/tools/_testing.py:19: FutureWarning: pandas.util.testing is deprecated. Use the functions in the public API at pandas.testing instead.\n",
            "  import pandas.util.testing as tm\n"
          ],
          "name": "stderr"
        }
      ]
    },
    {
      "cell_type": "code",
      "metadata": {
        "id": "WavM97bGP1tq",
        "colab": {
          "base_uri": "https://localhost:8080/",
          "height": 581
        },
        "outputId": "b79c5b93-d1b7-4151-afe8-5602f1cd5e12"
      },
      "source": [
        "!pip install alpha-vantage"
      ],
      "execution_count": null,
      "outputs": [
        {
          "output_type": "stream",
          "text": [
            "Collecting alpha-vantage\n",
            "  Downloading https://files.pythonhosted.org/packages/12/e3/72ec32d859a363c2eebaa42e0d4abb5ac7172a7a77a2307576ceb5fc1b42/alpha_vantage-2.2.0.tar.gz\n",
            "Collecting aiohttp\n",
            "\u001b[?25l  Downloading https://files.pythonhosted.org/packages/7c/39/7eb5f98d24904e0f6d3edb505d4aa60e3ef83c0a58d6fe18244a51757247/aiohttp-3.6.2-cp36-cp36m-manylinux1_x86_64.whl (1.2MB)\n",
            "\u001b[K     |████████████████████████████████| 1.2MB 10.1MB/s \n",
            "\u001b[?25hRequirement already satisfied: requests in /usr/local/lib/python3.6/dist-packages (from alpha-vantage) (2.23.0)\n",
            "Collecting idna-ssl>=1.0; python_version < \"3.7\"\n",
            "  Downloading https://files.pythonhosted.org/packages/46/03/07c4894aae38b0de52b52586b24bf189bb83e4ddabfe2e2c8f2419eec6f4/idna-ssl-1.1.0.tar.gz\n",
            "Requirement already satisfied: chardet<4.0,>=2.0 in /usr/local/lib/python3.6/dist-packages (from aiohttp->alpha-vantage) (3.0.4)\n",
            "Requirement already satisfied: typing-extensions>=3.6.5; python_version < \"3.7\" in /usr/local/lib/python3.6/dist-packages (from aiohttp->alpha-vantage) (3.7.4.3)\n",
            "Collecting multidict<5.0,>=4.5\n",
            "\u001b[?25l  Downloading https://files.pythonhosted.org/packages/1a/95/f50352b5366e7d579e8b99631680a9e32e1b22adfa1629a8f23b1d22d5e2/multidict-4.7.6-cp36-cp36m-manylinux1_x86_64.whl (148kB)\n",
            "\u001b[K     |████████████████████████████████| 153kB 29.3MB/s \n",
            "\u001b[?25hRequirement already satisfied: attrs>=17.3.0 in /usr/local/lib/python3.6/dist-packages (from aiohttp->alpha-vantage) (20.1.0)\n",
            "Collecting async-timeout<4.0,>=3.0\n",
            "  Downloading https://files.pythonhosted.org/packages/e1/1e/5a4441be21b0726c4464f3f23c8b19628372f606755a9d2e46c187e65ec4/async_timeout-3.0.1-py3-none-any.whl\n",
            "Collecting yarl<2.0,>=1.0\n",
            "\u001b[?25l  Downloading https://files.pythonhosted.org/packages/a0/b4/2cbeaf2c3ea53865d9613b315fe24e78c66acedb1df7e4be4e064c87203b/yarl-1.5.1-cp36-cp36m-manylinux1_x86_64.whl (257kB)\n",
            "\u001b[K     |████████████████████████████████| 266kB 38.9MB/s \n",
            "\u001b[?25hRequirement already satisfied: urllib3!=1.25.0,!=1.25.1,<1.26,>=1.21.1 in /usr/local/lib/python3.6/dist-packages (from requests->alpha-vantage) (1.24.3)\n",
            "Requirement already satisfied: idna<3,>=2.5 in /usr/local/lib/python3.6/dist-packages (from requests->alpha-vantage) (2.10)\n",
            "Requirement already satisfied: certifi>=2017.4.17 in /usr/local/lib/python3.6/dist-packages (from requests->alpha-vantage) (2020.6.20)\n",
            "Building wheels for collected packages: alpha-vantage, idna-ssl\n",
            "  Building wheel for alpha-vantage (setup.py) ... \u001b[?25l\u001b[?25hdone\n",
            "  Created wheel for alpha-vantage: filename=alpha_vantage-2.2.0-cp36-none-any.whl size=25706 sha256=1839fb3ac8828c34ef1bb7b57d66bd9ed7f695865223e9d1b01345b1103537e5\n",
            "  Stored in directory: /root/.cache/pip/wheels/3a/fa/05/80b0afcbd2a4de8bd2a0c5cd77084e3d3a9cc12c48be9b7f84\n",
            "  Building wheel for idna-ssl (setup.py) ... \u001b[?25l\u001b[?25hdone\n",
            "  Created wheel for idna-ssl: filename=idna_ssl-1.1.0-cp36-none-any.whl size=3161 sha256=f95f2ba54330d317ce83bc8cfe2fbbee62ae1c3b5a62cebf761b38e1a6057e0a\n",
            "  Stored in directory: /root/.cache/pip/wheels/d3/00/b3/32d613e19e08a739751dd6bf998cfed277728f8b2127ad4eb7\n",
            "Successfully built alpha-vantage idna-ssl\n",
            "Installing collected packages: idna-ssl, multidict, async-timeout, yarl, aiohttp, alpha-vantage\n",
            "Successfully installed aiohttp-3.6.2 alpha-vantage-2.2.0 async-timeout-3.0.1 idna-ssl-1.1.0 multidict-4.7.6 yarl-1.5.1\n"
          ],
          "name": "stdout"
        }
      ]
    },
    {
      "cell_type": "code",
      "metadata": {
        "id": "lzkrAFQXPp88"
      },
      "source": [
        "\"\"\"\n",
        "ALPHA VANTAGE API KEY \n",
        "EQYSLCK8G742XJDN\n",
        "\"\"\"\n",
        "from alpha_vantage.timeseries import TimeSeries\n",
        "from pprint import pprint\n",
        "ts = TimeSeries(key='EQYSLCK8G742XJDN', output_format='pandas')"
      ],
      "execution_count": null,
      "outputs": []
    },
    {
      "cell_type": "code",
      "metadata": {
        "id": "y7qbl4XxPp8_"
      },
      "source": [
        "PFE, meta_data = ts.get_daily(symbol='PFE',outputsize='full')\n",
        "BMY,meta_data =  ts.get_daily(symbol='BMY',outputsize='full')\n",
        "ABT,meta_data =  ts.get_daily(symbol='ABT',outputsize='full')\n",
        "JNJ,meta_data =  ts.get_daily(symbol = 'JNJ',outputsize = 'full')\n",
        "BIIB,meta_data =  ts.get_daily(symbol = 'BIIB',outputsize = 'full')\n",
        "#convert to full"
      ],
      "execution_count": null,
      "outputs": []
    },
    {
      "cell_type": "code",
      "metadata": {
        "id": "s2I83-czPp9B"
      },
      "source": [
        "tickers = ['PFE','BMY','ABT','JNJ','BIIB']"
      ],
      "execution_count": null,
      "outputs": []
    },
    {
      "cell_type": "code",
      "metadata": {
        "id": "bO4g6-rLPp9D"
      },
      "source": [
        "stocks = pd.concat([PFE,BMY ,ABT,JNJ,BIIB],axis = 1,keys = tickers)"
      ],
      "execution_count": null,
      "outputs": []
    },
    {
      "cell_type": "code",
      "metadata": {
        "id": "RBuYd6HyPp9G"
      },
      "source": [
        "stocks.columns.names = ['Pharma Ticker','Stock Info']\n"
      ],
      "execution_count": null,
      "outputs": []
    },
    {
      "cell_type": "code",
      "metadata": {
        "id": "teT_VWwpPp9I",
        "colab": {
          "base_uri": "https://localhost:8080/",
          "height": 235
        },
        "outputId": "46477eb5-5432-47ac-9bc3-4e56e1d313e5"
      },
      "source": [
        "stock_df = pd.DataFrame()\n",
        "for tick in tickers:\n",
        "    stock_df[tick] = stocks[tick]['4. close']\n",
        "stock_df.head()"
      ],
      "execution_count": null,
      "outputs": [
        {
          "output_type": "execute_result",
          "data": {
            "text/html": [
              "<div>\n",
              "<style scoped>\n",
              "    .dataframe tbody tr th:only-of-type {\n",
              "        vertical-align: middle;\n",
              "    }\n",
              "\n",
              "    .dataframe tbody tr th {\n",
              "        vertical-align: top;\n",
              "    }\n",
              "\n",
              "    .dataframe thead th {\n",
              "        text-align: right;\n",
              "    }\n",
              "</style>\n",
              "<table border=\"1\" class=\"dataframe\">\n",
              "  <thead>\n",
              "    <tr style=\"text-align: right;\">\n",
              "      <th></th>\n",
              "      <th>PFE</th>\n",
              "      <th>BMY</th>\n",
              "      <th>ABT</th>\n",
              "      <th>JNJ</th>\n",
              "      <th>BIIB</th>\n",
              "    </tr>\n",
              "    <tr>\n",
              "      <th>date</th>\n",
              "      <th></th>\n",
              "      <th></th>\n",
              "      <th></th>\n",
              "      <th></th>\n",
              "      <th></th>\n",
              "    </tr>\n",
              "  </thead>\n",
              "  <tbody>\n",
              "    <tr>\n",
              "      <th>2020-09-04</th>\n",
              "      <td>36.36</td>\n",
              "      <td>59.95</td>\n",
              "      <td>104.16</td>\n",
              "      <td>148.59</td>\n",
              "      <td>276.00</td>\n",
              "    </tr>\n",
              "    <tr>\n",
              "      <th>2020-09-03</th>\n",
              "      <td>36.40</td>\n",
              "      <td>60.05</td>\n",
              "      <td>105.53</td>\n",
              "      <td>149.55</td>\n",
              "      <td>276.15</td>\n",
              "    </tr>\n",
              "    <tr>\n",
              "      <th>2020-09-02</th>\n",
              "      <td>37.20</td>\n",
              "      <td>61.60</td>\n",
              "      <td>109.44</td>\n",
              "      <td>153.83</td>\n",
              "      <td>285.60</td>\n",
              "    </tr>\n",
              "    <tr>\n",
              "      <th>2020-09-01</th>\n",
              "      <td>36.88</td>\n",
              "      <td>60.97</td>\n",
              "      <td>106.55</td>\n",
              "      <td>151.52</td>\n",
              "      <td>279.75</td>\n",
              "    </tr>\n",
              "    <tr>\n",
              "      <th>2020-08-31</th>\n",
              "      <td>37.79</td>\n",
              "      <td>62.20</td>\n",
              "      <td>109.47</td>\n",
              "      <td>153.41</td>\n",
              "      <td>287.64</td>\n",
              "    </tr>\n",
              "  </tbody>\n",
              "</table>\n",
              "</div>"
            ],
            "text/plain": [
              "              PFE    BMY     ABT     JNJ    BIIB\n",
              "date                                            \n",
              "2020-09-04  36.36  59.95  104.16  148.59  276.00\n",
              "2020-09-03  36.40  60.05  105.53  149.55  276.15\n",
              "2020-09-02  37.20  61.60  109.44  153.83  285.60\n",
              "2020-09-01  36.88  60.97  106.55  151.52  279.75\n",
              "2020-08-31  37.79  62.20  109.47  153.41  287.64"
            ]
          },
          "metadata": {
            "tags": []
          },
          "execution_count": 8
        }
      ]
    },
    {
      "cell_type": "code",
      "metadata": {
        "id": "wzrxHOLjPp9L",
        "colab": {
          "base_uri": "https://localhost:8080/",
          "height": 384
        },
        "outputId": "b78bb258-348d-4a8b-eec1-d8cf6d3d058f"
      },
      "source": [
        "stock_df.plot(figsize = (12,6))\n",
        "plt.legend()\n",
        "plt.ylabel('Stock Price/USD')"
      ],
      "execution_count": null,
      "outputs": [
        {
          "output_type": "execute_result",
          "data": {
            "text/plain": [
              "Text(0, 0.5, 'Stock Price/USD')"
            ]
          },
          "metadata": {
            "tags": []
          },
          "execution_count": 9
        },
        {
          "output_type": "display_data",
          "data": {
            "image/png": "[encoded data removed]",
            "text/plain": [
              "<Figure size 864x432 with 1 Axes>"
            ]
          },
          "metadata": {
            "tags": [],
            "needs_background": "light"
          }
        }
      ]
    },
    {
      "cell_type": "code",
      "metadata": {
        "id": "QnzNtCMFPp9O"
      },
      "source": [
        "stock_df = stock_df[::-1]"
      ],
      "execution_count": null,
      "outputs": []
    },
    {
      "cell_type": "code",
      "metadata": {
        "id": "1KEGCz2jPp9Q",
        "colab": {
          "base_uri": "https://localhost:8080/",
          "height": 400
        },
        "outputId": "d75e1cde-ccf0-4264-b4a1-a21ca7fd75da"
      },
      "source": [
        "stock_df.loc['2016-08-01':'2016-10-31'].plot(figsize = (12,6))\n",
        "plt.legend() \n",
        "plt.ylabel('Stock Price/USD')\n",
        "#stagnant prices - helpful for normalization "
      ],
      "execution_count": null,
      "outputs": [
        {
          "output_type": "execute_result",
          "data": {
            "text/plain": [
              "Text(0, 0.5, 'Stock Price/USD')"
            ]
          },
          "metadata": {
            "tags": []
          },
          "execution_count": 11
        },
        {
          "output_type": "display_data",
          "data": {
            "image/png": "[encoded data removed]",
            "text/plain": [
              "<Figure size 864x432 with 1 Axes>"
            ]
          },
          "metadata": {
            "tags": [],
            "needs_background": "light"
          }
        }
      ]
    },
    {
      "cell_type": "code",
      "metadata": {
        "id": "WNLr2sTnPp9S",
        "colab": {
          "base_uri": "https://localhost:8080/",
          "height": 450
        },
        "outputId": "be5b5179-7b86-4b66-8c1b-c45f9423d3d0"
      },
      "source": [
        "stock_df"
      ],
      "execution_count": null,
      "outputs": [
        {
          "output_type": "execute_result",
          "data": {
            "text/html": [
              "<div>\n",
              "<style scoped>\n",
              "    .dataframe tbody tr th:only-of-type {\n",
              "        vertical-align: middle;\n",
              "    }\n",
              "\n",
              "    .dataframe tbody tr th {\n",
              "        vertical-align: top;\n",
              "    }\n",
              "\n",
              "    .dataframe thead th {\n",
              "        text-align: right;\n",
              "    }\n",
              "</style>\n",
              "<table border=\"1\" class=\"dataframe\">\n",
              "  <thead>\n",
              "    <tr style=\"text-align: right;\">\n",
              "      <th></th>\n",
              "      <th>PFE</th>\n",
              "      <th>BMY</th>\n",
              "      <th>ABT</th>\n",
              "      <th>JNJ</th>\n",
              "      <th>BIIB</th>\n",
              "    </tr>\n",
              "    <tr>\n",
              "      <th>date</th>\n",
              "      <th></th>\n",
              "      <th></th>\n",
              "      <th></th>\n",
              "      <th></th>\n",
              "      <th></th>\n",
              "    </tr>\n",
              "  </thead>\n",
              "  <tbody>\n",
              "    <tr>\n",
              "      <th>1999-11-01</th>\n",
              "      <td>38.50</td>\n",
              "      <td>77.25</td>\n",
              "      <td>40.31</td>\n",
              "      <td>105.10</td>\n",
              "      <td>121.50</td>\n",
              "    </tr>\n",
              "    <tr>\n",
              "      <th>1999-11-02</th>\n",
              "      <td>38.12</td>\n",
              "      <td>74.75</td>\n",
              "      <td>38.00</td>\n",
              "      <td>102.50</td>\n",
              "      <td>116.06</td>\n",
              "    </tr>\n",
              "    <tr>\n",
              "      <th>1999-11-03</th>\n",
              "      <td>38.56</td>\n",
              "      <td>76.13</td>\n",
              "      <td>36.81</td>\n",
              "      <td>104.30</td>\n",
              "      <td>119.37</td>\n",
              "    </tr>\n",
              "    <tr>\n",
              "      <th>1999-11-04</th>\n",
              "      <td>37.25</td>\n",
              "      <td>76.25</td>\n",
              "      <td>37.88</td>\n",
              "      <td>105.30</td>\n",
              "      <td>125.62</td>\n",
              "    </tr>\n",
              "    <tr>\n",
              "      <th>1999-11-05</th>\n",
              "      <td>34.75</td>\n",
              "      <td>76.13</td>\n",
              "      <td>38.44</td>\n",
              "      <td>105.50</td>\n",
              "      <td>126.63</td>\n",
              "    </tr>\n",
              "    <tr>\n",
              "      <th>...</th>\n",
              "      <td>...</td>\n",
              "      <td>...</td>\n",
              "      <td>...</td>\n",
              "      <td>...</td>\n",
              "      <td>...</td>\n",
              "    </tr>\n",
              "    <tr>\n",
              "      <th>2020-08-31</th>\n",
              "      <td>37.79</td>\n",
              "      <td>62.20</td>\n",
              "      <td>109.47</td>\n",
              "      <td>153.41</td>\n",
              "      <td>287.64</td>\n",
              "    </tr>\n",
              "    <tr>\n",
              "      <th>2020-09-01</th>\n",
              "      <td>36.88</td>\n",
              "      <td>60.97</td>\n",
              "      <td>106.55</td>\n",
              "      <td>151.52</td>\n",
              "      <td>279.75</td>\n",
              "    </tr>\n",
              "    <tr>\n",
              "      <th>2020-09-02</th>\n",
              "      <td>37.20</td>\n",
              "      <td>61.60</td>\n",
              "      <td>109.44</td>\n",
              "      <td>153.83</td>\n",
              "      <td>285.60</td>\n",
              "    </tr>\n",
              "    <tr>\n",
              "      <th>2020-09-03</th>\n",
              "      <td>36.40</td>\n",
              "      <td>60.05</td>\n",
              "      <td>105.53</td>\n",
              "      <td>149.55</td>\n",
              "      <td>276.15</td>\n",
              "    </tr>\n",
              "    <tr>\n",
              "      <th>2020-09-04</th>\n",
              "      <td>36.36</td>\n",
              "      <td>59.95</td>\n",
              "      <td>104.16</td>\n",
              "      <td>148.59</td>\n",
              "      <td>276.00</td>\n",
              "    </tr>\n",
              "  </tbody>\n",
              "</table>\n",
              "<p>5246 rows × 5 columns</p>\n",
              "</div>"
            ],
            "text/plain": [
              "              PFE    BMY     ABT     JNJ    BIIB\n",
              "date                                            \n",
              "1999-11-01  38.50  77.25   40.31  105.10  121.50\n",
              "1999-11-02  38.12  74.75   38.00  102.50  116.06\n",
              "1999-11-03  38.56  76.13   36.81  104.30  119.37\n",
              "1999-11-04  37.25  76.25   37.88  105.30  125.62\n",
              "1999-11-05  34.75  76.13   38.44  105.50  126.63\n",
              "...           ...    ...     ...     ...     ...\n",
              "2020-08-31  37.79  62.20  109.47  153.41  287.64\n",
              "2020-09-01  36.88  60.97  106.55  151.52  279.75\n",
              "2020-09-02  37.20  61.60  109.44  153.83  285.60\n",
              "2020-09-03  36.40  60.05  105.53  149.55  276.15\n",
              "2020-09-04  36.36  59.95  104.16  148.59  276.00\n",
              "\n",
              "[5246 rows x 5 columns]"
            ]
          },
          "metadata": {
            "tags": []
          },
          "execution_count": 12
        }
      ]
    },
    {
      "cell_type": "code",
      "metadata": {
        "id": "ITShanflPp9U",
        "colab": {
          "base_uri": "https://localhost:8080/",
          "height": 102
        },
        "outputId": "1448bce4-1eb6-453b-a9fd-cd0ec63b92c4"
      },
      "source": [
        "initial_dict = {}\n",
        "for i in range(len(stock_df.loc['2016-08-01':'2016-10-31'].mean().values)): \n",
        "    initial_dict[stock_df.columns[i]] = stock_df.loc['2016-10-31'].values[i]\n",
        "    \n",
        "print(initial_dict)\n",
        "#getting the previous prices\n",
        "\n",
        "initial_dict_2 = {}\n",
        "initial_dict_3 = {}\n",
        "for i in range(len(stock_df.loc['2016-08-01':'2016-10-31'].mean().values)): \n",
        "    initial_dict_2[stock_df.columns[i]] = stock_df.loc['2016-08-01'].values[i]\n",
        "    initial_dict_3[stock_df.columns[i]] = stock_df.loc['2016-08-02'].values[i]\n",
        "\n",
        "print(initial_dict_2)\n",
        "print('\\n')\n",
        "print(initial_dict_3)"
      ],
      "execution_count": null,
      "outputs": [
        {
          "output_type": "stream",
          "text": [
            "{'PFE': 31.71, 'BMY': 50.91, 'ABT': 39.24, 'JNJ': 115.99, 'BIIB': 280.18}\n",
            "{'PFE': 37.31, 'BMY': 76.19, 'ABT': 45.29, 'JNJ': 125.4, 'BIIB': 301.83}\n",
            "\n",
            "\n",
            "{'PFE': 36.39, 'BMY': 75.05, 'ABT': 45.07, 'JNJ': 124.85, 'BIIB': 330.11}\n"
          ],
          "name": "stdout"
        }
      ]
    },
    {
      "cell_type": "code",
      "metadata": {
        "id": "0Khcmzy5Pp9Z"
      },
      "source": [
        "stock_df.loc['2016-08-01':'2016-10-31'] = 100"
      ],
      "execution_count": null,
      "outputs": []
    },
    {
      "cell_type": "code",
      "metadata": {
        "id": "BVFsEks-Pp9b",
        "colab": {
          "base_uri": "https://localhost:8080/",
          "height": 384
        },
        "outputId": "ab5b8e95-1b68-4449-9dbf-613f0a825545"
      },
      "source": [
        "stock_df.plot(figsize = (12,6))\n",
        "plt.legend()\n",
        "plt.ylabel('Stock Price/USD')"
      ],
      "execution_count": null,
      "outputs": [
        {
          "output_type": "execute_result",
          "data": {
            "text/plain": [
              "Text(0, 0.5, 'Stock Price/USD')"
            ]
          },
          "metadata": {
            "tags": []
          },
          "execution_count": 15
        },
        {
          "output_type": "display_data",
          "data": {
            "image/png": "[encoded data removed]",
            "text/plain": [
              "<Figure size 864x432 with 1 Axes>"
            ]
          },
          "metadata": {
            "tags": [],
            "needs_background": "light"
          }
        }
      ]
    },
    {
      "cell_type": "code",
      "metadata": {
        "id": "0THGp4ldPp9d",
        "colab": {
          "base_uri": "https://localhost:8080/",
          "height": 493
        },
        "outputId": "c476cfc4-baa5-4937-bd05-cf37ed4b357a"
      },
      "source": [
        "stock_df.loc['2016-10-31'] = initial_dict\n",
        "# stock_df = stock_df.drop('2016-10-31',axis = 1)\n",
        "print(stock_df.loc['2016-10-31'])\n",
        "print('\\n')\n",
        "print(stock_df.loc['2016-11-01'])\n",
        "\n",
        "stock_df.loc['2016-08-01'] = initial_dict_2\n",
        "stock_df.loc['2016-08-02'] = initial_dict_3\n",
        "# stock_df = stock_df.drop('2016-10-31',axis = 1)\n",
        "print(stock_df.loc['2016-08-01'])\n",
        "print('\\n')\n",
        "print(stock_df.loc['2016-08-02'])"
      ],
      "execution_count": null,
      "outputs": [
        {
          "output_type": "stream",
          "text": [
            "PFE      31.71\n",
            "BMY      50.91\n",
            "ABT      39.24\n",
            "JNJ     115.99\n",
            "BIIB    280.18\n",
            "Name: 2016-10-31 00:00:00, dtype: float64\n",
            "\n",
            "\n",
            "PFE      31.07\n",
            "BMY      50.80\n",
            "ABT      39.05\n",
            "JNJ     115.34\n",
            "BIIB    282.56\n",
            "Name: 2016-11-01 00:00:00, dtype: float64\n",
            "PFE      37.31\n",
            "BMY      76.19\n",
            "ABT      45.29\n",
            "JNJ     125.40\n",
            "BIIB    301.83\n",
            "Name: 2016-08-01 00:00:00, dtype: float64\n",
            "\n",
            "\n",
            "PFE      36.39\n",
            "BMY      75.05\n",
            "ABT      45.07\n",
            "JNJ     124.85\n",
            "BIIB    330.11\n",
            "Name: 2016-08-02 00:00:00, dtype: float64\n"
          ],
          "name": "stdout"
        }
      ]
    },
    {
      "cell_type": "code",
      "metadata": {
        "id": "NNJrtR68Pp9f",
        "colab": {
          "base_uri": "https://localhost:8080/",
          "height": 374
        },
        "outputId": "759b16c4-2129-4c18-8f3b-a18d8d61e2be"
      },
      "source": [
        "per_change_df = stock_df.pct_change()\n",
        "print('change in constant part')\n",
        "print(per_change_df.loc['2016-08-01':'2016-11-1'].head())\n",
        "print('\\n')\n",
        "\n",
        "req_per = per_change_df.loc['2016-10-31':]\n",
        "print('required changes for latter part')\n",
        "print(len(req_per))\n",
        "req_per\n",
        "print('\\n')\n",
        "\n",
        "req_per_2 = per_change_df.loc[:'2016-08-01']\n",
        "print('required changes for former part')\n",
        "print(len(req_per_2))\n",
        "req_per_2\n",
        "\n",
        "print('\\n')\n",
        "\n",
        "new_stock_df = stock_df.loc['2016-10-31':]\n",
        "new_stock_df.loc['2016-10-31'] = 100\n",
        "print('length of df1')\n",
        "print(len(new_stock_df))\n",
        "\n",
        "new_stock_df_2 = stock_df.loc[:'2016-08-01']\n",
        "new_stock_df_2.loc['2016-08-01'] = 100\n",
        "print('length of df 2')\n",
        "\n",
        "stock_df.loc['2016-08-02'] = 100"
      ],
      "execution_count": null,
      "outputs": [
        {
          "output_type": "stream",
          "text": [
            "change in constant part\n",
            "                 PFE       BMY       ABT       JNJ      BIIB\n",
            "date                                                        \n",
            "2016-08-01  0.011385  0.018447  0.012067  0.001358  0.041044\n",
            "2016-08-02 -0.024658 -0.014963 -0.004858 -0.004386  0.093695\n",
            "2016-08-03  1.748008  0.332445  1.218771 -0.199039 -0.697071\n",
            "2016-08-04  0.000000  0.000000  0.000000  0.000000  0.000000\n",
            "2016-08-05  0.000000  0.000000  0.000000  0.000000  0.000000\n",
            "\n",
            "\n",
            "required changes for latter part\n",
            "969\n",
            "\n",
            "\n",
            "required changes for former part\n",
            "4214\n",
            "\n",
            "\n",
            "length of df1\n",
            "969\n",
            "length of df 2\n"
          ],
          "name": "stdout"
        }
      ]
    },
    {
      "cell_type": "code",
      "metadata": {
        "id": "PjhqgEJZPp9h",
        "colab": {
          "base_uri": "https://localhost:8080/",
          "height": 289
        },
        "outputId": "ccecae35-5447-44c0-f8f1-df2892288c78"
      },
      "source": [
        "print(req_per.head())\n",
        "print('\\n')\n",
        "print(req_per_2.tail())"
      ],
      "execution_count": null,
      "outputs": [
        {
          "output_type": "stream",
          "text": [
            "                 PFE       BMY       ABT       JNJ      BIIB\n",
            "date                                                        \n",
            "2016-10-31 -0.682900 -0.490900 -0.607600  0.159900  1.801800\n",
            "2016-11-01 -0.020183 -0.002161 -0.004842 -0.005604  0.008495\n",
            "2016-11-02 -0.014162 -0.004528 -0.008963 -0.004162 -0.018757\n",
            "2016-11-03 -0.024159 -0.007119 -0.008269  0.001480 -0.013597\n",
            "2016-11-04  0.003680  0.015933  0.018499  0.000695  0.012834\n",
            "\n",
            "\n",
            "                 PFE       BMY       ABT       JNJ      BIIB\n",
            "date                                                        \n",
            "2016-07-26  0.001359 -0.006617  0.004377  0.002082 -0.001079\n",
            "2016-07-27  0.000543  0.018785  0.001606 -0.003036  0.004564\n",
            "2016-07-28 -0.004885 -0.023669  0.017861 -0.002485  0.002358\n",
            "2016-07-29  0.005999  0.002009  0.006749  0.006187  0.003114\n",
            "2016-08-01  0.011385  0.018447  0.012067  0.001358  0.041044\n"
          ],
          "name": "stdout"
        }
      ]
    },
    {
      "cell_type": "code",
      "metadata": {
        "id": "-Qizbw9qPp9j"
      },
      "source": [
        "for i in range(len(new_stock_df) - 1): \n",
        "    new_stock_df['PFE'].iloc[i+1] = (new_stock_df['PFE'].iloc[i] * req_per['PFE'][i+1]) + new_stock_df['PFE'].iloc[i]\n",
        "    new_stock_df['BMY'].iloc[i+1] = (new_stock_df['BMY'].iloc[i] * req_per['BMY'][i+1]) + new_stock_df['BMY'].iloc[i]\n",
        "    new_stock_df['ABT'].iloc[i+1] = (new_stock_df['ABT'].iloc[i] * req_per['ABT'][i+1]) + new_stock_df['ABT'].iloc[i]\n",
        "    new_stock_df['JNJ'].iloc[i+1] = (new_stock_df['JNJ'].iloc[i] * req_per['JNJ'][i+1]) + new_stock_df['JNJ'].iloc[i]\n",
        "    new_stock_df['BIIB'].iloc[i+1] = (new_stock_df['BIIB'].iloc[i] * req_per['BIIB'][i+1]) + new_stock_df['BIIB'].iloc[i]"
      ],
      "execution_count": null,
      "outputs": []
    },
    {
      "cell_type": "code",
      "metadata": {
        "id": "dmWPzScXPp9m"
      },
      "source": [
        "for i in range(len(new_stock_df_2)-1,0,-1):\n",
        "    new_stock_df_2['PFE'].iloc[i-1] = (new_stock_df_2['PFE'].iloc[i]/(req_per_2['PFE'][i] + 1))\n",
        "    new_stock_df_2['BMY'].iloc[i-1] = (new_stock_df_2['BMY'].iloc[i]/(req_per_2['BMY'][i] + 1))\n",
        "    new_stock_df_2['ABT'].iloc[i-1] = (new_stock_df_2['ABT'].iloc[i]/(req_per_2['ABT'][i] + 1))\n",
        "    new_stock_df_2['JNJ'].iloc[i-1] = (new_stock_df_2['JNJ'].iloc[i]/(req_per_2['JNJ'][i] + 1))\n",
        "    new_stock_df_2['BIIB'].iloc[i-1] = (new_stock_df_2['BIIB'].iloc[i]/(req_per_2['BIIB'][i] + 1))"
      ],
      "execution_count": null,
      "outputs": []
    },
    {
      "cell_type": "code",
      "metadata": {
        "id": "GhTMkZJyPp9o",
        "colab": {
          "base_uri": "https://localhost:8080/",
          "height": 498
        },
        "outputId": "b8fd787b-6106-41aa-fd26-f61a17dc00c7"
      },
      "source": [
        "sns.set_style('whitegrid')\n",
        "\n",
        "stock_df.plot(figsize = (12,8))\n",
        "plt.ylabel('Normalized Stock Price')\n",
        "plt.title('Normalized Stock price against date')\n",
        "plt.legend()"
      ],
      "execution_count": null,
      "outputs": [
        {
          "output_type": "execute_result",
          "data": {
            "text/plain": [
              "<matplotlib.legend.Legend at 0x7f7bfa05b4e0>"
            ]
          },
          "metadata": {
            "tags": []
          },
          "execution_count": 21
        },
        {
          "output_type": "display_data",
          "data": {
            "image/png": "[encoded data removed]",
            "text/plain": [
              "<Figure size 864x576 with 1 Axes>"
            ]
          },
          "metadata": {
            "tags": []
          }
        }
      ]
    },
    {
      "cell_type": "code",
      "metadata": {
        "id": "N0MC_NGDPp9q",
        "colab": {
          "base_uri": "https://localhost:8080/",
          "height": 235
        },
        "outputId": "b996a150-2252-46b6-bfa6-7ad95cded439"
      },
      "source": [
        "stock_df = stock_df.iloc[1:]\n",
        "stock_df.head()"
      ],
      "execution_count": null,
      "outputs": [
        {
          "output_type": "execute_result",
          "data": {
            "text/html": [
              "<div>\n",
              "<style scoped>\n",
              "    .dataframe tbody tr th:only-of-type {\n",
              "        vertical-align: middle;\n",
              "    }\n",
              "\n",
              "    .dataframe tbody tr th {\n",
              "        vertical-align: top;\n",
              "    }\n",
              "\n",
              "    .dataframe thead th {\n",
              "        text-align: right;\n",
              "    }\n",
              "</style>\n",
              "<table border=\"1\" class=\"dataframe\">\n",
              "  <thead>\n",
              "    <tr style=\"text-align: right;\">\n",
              "      <th></th>\n",
              "      <th>PFE</th>\n",
              "      <th>BMY</th>\n",
              "      <th>ABT</th>\n",
              "      <th>JNJ</th>\n",
              "      <th>BIIB</th>\n",
              "    </tr>\n",
              "    <tr>\n",
              "      <th>date</th>\n",
              "      <th></th>\n",
              "      <th></th>\n",
              "      <th></th>\n",
              "      <th></th>\n",
              "      <th></th>\n",
              "    </tr>\n",
              "  </thead>\n",
              "  <tbody>\n",
              "    <tr>\n",
              "      <th>1999-11-02</th>\n",
              "      <td>102.171000</td>\n",
              "      <td>98.109988</td>\n",
              "      <td>83.903732</td>\n",
              "      <td>81.738437</td>\n",
              "      <td>38.452109</td>\n",
              "    </tr>\n",
              "    <tr>\n",
              "      <th>1999-11-03</th>\n",
              "      <td>103.350308</td>\n",
              "      <td>99.921250</td>\n",
              "      <td>81.276220</td>\n",
              "      <td>83.173844</td>\n",
              "      <td>39.548753</td>\n",
              "    </tr>\n",
              "    <tr>\n",
              "      <th>1999-11-04</th>\n",
              "      <td>99.839185</td>\n",
              "      <td>100.078750</td>\n",
              "      <td>83.638772</td>\n",
              "      <td>83.971292</td>\n",
              "      <td>41.619455</td>\n",
              "    </tr>\n",
              "    <tr>\n",
              "      <th>1999-11-05</th>\n",
              "      <td>93.138569</td>\n",
              "      <td>99.921250</td>\n",
              "      <td>84.875248</td>\n",
              "      <td>84.130781</td>\n",
              "      <td>41.954080</td>\n",
              "    </tr>\n",
              "    <tr>\n",
              "      <th>1999-11-08</th>\n",
              "      <td>93.138569</td>\n",
              "      <td>100.984381</td>\n",
              "      <td>85.846765</td>\n",
              "      <td>83.253589</td>\n",
              "      <td>43.070603</td>\n",
              "    </tr>\n",
              "  </tbody>\n",
              "</table>\n",
              "</div>"
            ],
            "text/plain": [
              "                   PFE         BMY        ABT        JNJ       BIIB\n",
              "date                                                               \n",
              "1999-11-02  102.171000   98.109988  83.903732  81.738437  38.452109\n",
              "1999-11-03  103.350308   99.921250  81.276220  83.173844  39.548753\n",
              "1999-11-04   99.839185  100.078750  83.638772  83.971292  41.619455\n",
              "1999-11-05   93.138569   99.921250  84.875248  84.130781  41.954080\n",
              "1999-11-08   93.138569  100.984381  85.846765  83.253589  43.070603"
            ]
          },
          "metadata": {
            "tags": []
          },
          "execution_count": 22
        }
      ]
    },
    {
      "cell_type": "code",
      "metadata": {
        "id": "qNMWxr6kPp9s",
        "colab": {
          "base_uri": "https://localhost:8080/",
          "height": 450
        },
        "outputId": "17b4aa3b-feb7-43fa-b999-1c8c38be52e8"
      },
      "source": [
        "stock_df\n",
        "#stock market is closed on weekends you dummy"
      ],
      "execution_count": null,
      "outputs": [
        {
          "output_type": "execute_result",
          "data": {
            "text/html": [
              "<div>\n",
              "<style scoped>\n",
              "    .dataframe tbody tr th:only-of-type {\n",
              "        vertical-align: middle;\n",
              "    }\n",
              "\n",
              "    .dataframe tbody tr th {\n",
              "        vertical-align: top;\n",
              "    }\n",
              "\n",
              "    .dataframe thead th {\n",
              "        text-align: right;\n",
              "    }\n",
              "</style>\n",
              "<table border=\"1\" class=\"dataframe\">\n",
              "  <thead>\n",
              "    <tr style=\"text-align: right;\">\n",
              "      <th></th>\n",
              "      <th>PFE</th>\n",
              "      <th>BMY</th>\n",
              "      <th>ABT</th>\n",
              "      <th>JNJ</th>\n",
              "      <th>BIIB</th>\n",
              "    </tr>\n",
              "    <tr>\n",
              "      <th>date</th>\n",
              "      <th></th>\n",
              "      <th></th>\n",
              "      <th></th>\n",
              "      <th></th>\n",
              "      <th></th>\n",
              "    </tr>\n",
              "  </thead>\n",
              "  <tbody>\n",
              "    <tr>\n",
              "      <th>1999-11-02</th>\n",
              "      <td>102.171000</td>\n",
              "      <td>98.109988</td>\n",
              "      <td>83.903732</td>\n",
              "      <td>81.738437</td>\n",
              "      <td>38.452109</td>\n",
              "    </tr>\n",
              "    <tr>\n",
              "      <th>1999-11-03</th>\n",
              "      <td>103.350308</td>\n",
              "      <td>99.921250</td>\n",
              "      <td>81.276220</td>\n",
              "      <td>83.173844</td>\n",
              "      <td>39.548753</td>\n",
              "    </tr>\n",
              "    <tr>\n",
              "      <th>1999-11-04</th>\n",
              "      <td>99.839185</td>\n",
              "      <td>100.078750</td>\n",
              "      <td>83.638772</td>\n",
              "      <td>83.971292</td>\n",
              "      <td>41.619455</td>\n",
              "    </tr>\n",
              "    <tr>\n",
              "      <th>1999-11-05</th>\n",
              "      <td>93.138569</td>\n",
              "      <td>99.921250</td>\n",
              "      <td>84.875248</td>\n",
              "      <td>84.130781</td>\n",
              "      <td>41.954080</td>\n",
              "    </tr>\n",
              "    <tr>\n",
              "      <th>1999-11-08</th>\n",
              "      <td>93.138569</td>\n",
              "      <td>100.984381</td>\n",
              "      <td>85.846765</td>\n",
              "      <td>83.253589</td>\n",
              "      <td>43.070603</td>\n",
              "    </tr>\n",
              "    <tr>\n",
              "      <th>...</th>\n",
              "      <td>...</td>\n",
              "      <td>...</td>\n",
              "      <td>...</td>\n",
              "      <td>...</td>\n",
              "      <td>...</td>\n",
              "    </tr>\n",
              "    <tr>\n",
              "      <th>2020-08-31</th>\n",
              "      <td>119.173762</td>\n",
              "      <td>122.176390</td>\n",
              "      <td>278.975535</td>\n",
              "      <td>132.261402</td>\n",
              "      <td>102.662574</td>\n",
              "    </tr>\n",
              "    <tr>\n",
              "      <th>2020-09-01</th>\n",
              "      <td>116.304005</td>\n",
              "      <td>119.760361</td>\n",
              "      <td>271.534149</td>\n",
              "      <td>130.631951</td>\n",
              "      <td>99.846527</td>\n",
              "    </tr>\n",
              "    <tr>\n",
              "      <th>2020-09-02</th>\n",
              "      <td>117.313150</td>\n",
              "      <td>120.997839</td>\n",
              "      <td>278.899083</td>\n",
              "      <td>132.623502</td>\n",
              "      <td>101.934471</td>\n",
              "    </tr>\n",
              "    <tr>\n",
              "      <th>2020-09-03</th>\n",
              "      <td>114.790287</td>\n",
              "      <td>117.953251</td>\n",
              "      <td>268.934760</td>\n",
              "      <td>128.933529</td>\n",
              "      <td>98.561639</td>\n",
              "    </tr>\n",
              "    <tr>\n",
              "      <th>2020-09-04</th>\n",
              "      <td>114.664144</td>\n",
              "      <td>117.756826</td>\n",
              "      <td>265.443425</td>\n",
              "      <td>128.105871</td>\n",
              "      <td>98.508102</td>\n",
              "    </tr>\n",
              "  </tbody>\n",
              "</table>\n",
              "<p>5245 rows × 5 columns</p>\n",
              "</div>"
            ],
            "text/plain": [
              "                   PFE         BMY         ABT         JNJ        BIIB\n",
              "date                                                                  \n",
              "1999-11-02  102.171000   98.109988   83.903732   81.738437   38.452109\n",
              "1999-11-03  103.350308   99.921250   81.276220   83.173844   39.548753\n",
              "1999-11-04   99.839185  100.078750   83.638772   83.971292   41.619455\n",
              "1999-11-05   93.138569   99.921250   84.875248   84.130781   41.954080\n",
              "1999-11-08   93.138569  100.984381   85.846765   83.253589   43.070603\n",
              "...                ...         ...         ...         ...         ...\n",
              "2020-08-31  119.173762  122.176390  278.975535  132.261402  102.662574\n",
              "2020-09-01  116.304005  119.760361  271.534149  130.631951   99.846527\n",
              "2020-09-02  117.313150  120.997839  278.899083  132.623502  101.934471\n",
              "2020-09-03  114.790287  117.953251  268.934760  128.933529   98.561639\n",
              "2020-09-04  114.664144  117.756826  265.443425  128.105871   98.508102\n",
              "\n",
              "[5245 rows x 5 columns]"
            ]
          },
          "metadata": {
            "tags": []
          },
          "execution_count": 23
        }
      ]
    },
    {
      "cell_type": "code",
      "metadata": {
        "id": "PLMg63PNPp9u",
        "colab": {
          "base_uri": "https://localhost:8080/",
          "height": 282
        },
        "outputId": "c7353247-ca40-4e91-c16d-a082e26de9c4"
      },
      "source": [
        "sns.heatmap(stock_df.isnull(),yticklabels = False,cbar = False,cmap = 'viridis')"
      ],
      "execution_count": null,
      "outputs": [
        {
          "output_type": "execute_result",
          "data": {
            "text/plain": [
              "<matplotlib.axes._subplots.AxesSubplot at 0x7f7bf6f81080>"
            ]
          },
          "metadata": {
            "tags": []
          },
          "execution_count": 24
        },
        {
          "output_type": "display_data",
          "data": {
            "image/png": "[encoded data removed]",
            "text/plain": [
              "<Figure size 432x288 with 1 Axes>"
            ]
          },
          "metadata": {
            "tags": []
          }
        }
      ]
    },
    {
      "cell_type": "code",
      "metadata": {
        "id": "aK5nKmlVPp9v"
      },
      "source": [
        "def labeling(df): \n",
        "    per_change = (df.pct_change() * 100) \n",
        "    for i in df.columns: \n",
        "        df[i + ' fall'] = per_change[i].apply(lambda x: 1 if x<-2 else 0)\n",
        "    return df"
      ],
      "execution_count": null,
      "outputs": []
    },
    {
      "cell_type": "code",
      "metadata": {
        "id": "TBG83BHQPp9y"
      },
      "source": [
        "df = pd.DataFrame()\n",
        "for tick in tickers:\n",
        "    df[tick] = stocks[tick]['4. close']\n",
        "df.head()\n",
        "\n",
        "df = df[::-1]"
      ],
      "execution_count": null,
      "outputs": []
    },
    {
      "cell_type": "code",
      "metadata": {
        "id": "9ZewJMHkPp90"
      },
      "source": [
        "cols = [i for i in range(1000)]\n",
        "arr = np.zeros((len(df),500))\n",
        "\n",
        "for i in range(500,len(df)):\n",
        "    count = 500\n",
        "    for j in range(500):\n",
        "        arr[i][j] = df['PFE'].iloc[i - count]\n",
        "        count -= 1\n",
        "        if count < 0: \n",
        "               break"
      ],
      "execution_count": null,
      "outputs": []
    },
    {
      "cell_type": "code",
      "metadata": {
        "id": "dTlXFukIPp92"
      },
      "source": [
        "new_df = pd.DataFrame(arr,index = df.index).iloc[500:]"
      ],
      "execution_count": null,
      "outputs": []
    },
    {
      "cell_type": "code",
      "metadata": {
        "id": "i2OMGgxLPp95",
        "colab": {
          "base_uri": "https://localhost:8080/",
          "height": 369
        },
        "outputId": "927a5d3b-9bac-4037-8437-c99afb770179"
      },
      "source": [
        "new_df.head()"
      ],
      "execution_count": null,
      "outputs": [
        {
          "output_type": "execute_result",
          "data": {
            "text/html": [
              "<div>\n",
              "<style scoped>\n",
              "    .dataframe tbody tr th:only-of-type {\n",
              "        vertical-align: middle;\n",
              "    }\n",
              "\n",
              "    .dataframe tbody tr th {\n",
              "        vertical-align: top;\n",
              "    }\n",
              "\n",
              "    .dataframe thead th {\n",
              "        text-align: right;\n",
              "    }\n",
              "</style>\n",
              "<table border=\"1\" class=\"dataframe\">\n",
              "  <thead>\n",
              "    <tr style=\"text-align: right;\">\n",
              "      <th></th>\n",
              "      <th>0</th>\n",
              "      <th>1</th>\n",
              "      <th>2</th>\n",
              "      <th>3</th>\n",
              "      <th>4</th>\n",
              "      <th>5</th>\n",
              "      <th>6</th>\n",
              "      <th>7</th>\n",
              "      <th>8</th>\n",
              "      <th>9</th>\n",
              "      <th>10</th>\n",
              "      <th>11</th>\n",
              "      <th>12</th>\n",
              "      <th>13</th>\n",
              "      <th>14</th>\n",
              "      <th>15</th>\n",
              "      <th>16</th>\n",
              "      <th>17</th>\n",
              "      <th>18</th>\n",
              "      <th>19</th>\n",
              "      <th>20</th>\n",
              "      <th>21</th>\n",
              "      <th>22</th>\n",
              "      <th>23</th>\n",
              "      <th>24</th>\n",
              "      <th>25</th>\n",
              "      <th>26</th>\n",
              "      <th>27</th>\n",
              "      <th>28</th>\n",
              "      <th>29</th>\n",
              "      <th>30</th>\n",
              "      <th>31</th>\n",
              "      <th>32</th>\n",
              "      <th>33</th>\n",
              "      <th>34</th>\n",
              "      <th>35</th>\n",
              "      <th>36</th>\n",
              "      <th>37</th>\n",
              "      <th>38</th>\n",
              "      <th>39</th>\n",
              "      <th>...</th>\n",
              "      <th>460</th>\n",
              "      <th>461</th>\n",
              "      <th>462</th>\n",
              "      <th>463</th>\n",
              "      <th>464</th>\n",
              "      <th>465</th>\n",
              "      <th>466</th>\n",
              "      <th>467</th>\n",
              "      <th>468</th>\n",
              "      <th>469</th>\n",
              "      <th>470</th>\n",
              "      <th>471</th>\n",
              "      <th>472</th>\n",
              "      <th>473</th>\n",
              "      <th>474</th>\n",
              "      <th>475</th>\n",
              "      <th>476</th>\n",
              "      <th>477</th>\n",
              "      <th>478</th>\n",
              "      <th>479</th>\n",
              "      <th>480</th>\n",
              "      <th>481</th>\n",
              "      <th>482</th>\n",
              "      <th>483</th>\n",
              "      <th>484</th>\n",
              "      <th>485</th>\n",
              "      <th>486</th>\n",
              "      <th>487</th>\n",
              "      <th>488</th>\n",
              "      <th>489</th>\n",
              "      <th>490</th>\n",
              "      <th>491</th>\n",
              "      <th>492</th>\n",
              "      <th>493</th>\n",
              "      <th>494</th>\n",
              "      <th>495</th>\n",
              "      <th>496</th>\n",
              "      <th>497</th>\n",
              "      <th>498</th>\n",
              "      <th>499</th>\n",
              "    </tr>\n",
              "    <tr>\n",
              "      <th>date</th>\n",
              "      <th></th>\n",
              "      <th></th>\n",
              "      <th></th>\n",
              "      <th></th>\n",
              "      <th></th>\n",
              "      <th></th>\n",
              "      <th></th>\n",
              "      <th></th>\n",
              "      <th></th>\n",
              "      <th></th>\n",
              "      <th></th>\n",
              "      <th></th>\n",
              "      <th></th>\n",
              "      <th></th>\n",
              "      <th></th>\n",
              "      <th></th>\n",
              "      <th></th>\n",
              "      <th></th>\n",
              "      <th></th>\n",
              "      <th></th>\n",
              "      <th></th>\n",
              "      <th></th>\n",
              "      <th></th>\n",
              "      <th></th>\n",
              "      <th></th>\n",
              "      <th></th>\n",
              "      <th></th>\n",
              "      <th></th>\n",
              "      <th></th>\n",
              "      <th></th>\n",
              "      <th></th>\n",
              "      <th></th>\n",
              "      <th></th>\n",
              "      <th></th>\n",
              "      <th></th>\n",
              "      <th></th>\n",
              "      <th></th>\n",
              "      <th></th>\n",
              "      <th></th>\n",
              "      <th></th>\n",
              "      <th></th>\n",
              "      <th></th>\n",
              "      <th></th>\n",
              "      <th></th>\n",
              "      <th></th>\n",
              "      <th></th>\n",
              "      <th></th>\n",
              "      <th></th>\n",
              "      <th></th>\n",
              "      <th></th>\n",
              "      <th></th>\n",
              "      <th></th>\n",
              "      <th></th>\n",
              "      <th></th>\n",
              "      <th></th>\n",
              "      <th></th>\n",
              "      <th></th>\n",
              "      <th></th>\n",
              "      <th></th>\n",
              "      <th></th>\n",
              "      <th></th>\n",
              "      <th></th>\n",
              "      <th></th>\n",
              "      <th></th>\n",
              "      <th></th>\n",
              "      <th></th>\n",
              "      <th></th>\n",
              "      <th></th>\n",
              "      <th></th>\n",
              "      <th></th>\n",
              "      <th></th>\n",
              "      <th></th>\n",
              "      <th></th>\n",
              "      <th></th>\n",
              "      <th></th>\n",
              "      <th></th>\n",
              "      <th></th>\n",
              "      <th></th>\n",
              "      <th></th>\n",
              "      <th></th>\n",
              "      <th></th>\n",
              "    </tr>\n",
              "  </thead>\n",
              "  <tbody>\n",
              "    <tr>\n",
              "      <th>2001-10-30</th>\n",
              "      <td>38.50</td>\n",
              "      <td>38.12</td>\n",
              "      <td>38.56</td>\n",
              "      <td>37.25</td>\n",
              "      <td>34.75</td>\n",
              "      <td>34.75</td>\n",
              "      <td>35.00</td>\n",
              "      <td>35.00</td>\n",
              "      <td>35.38</td>\n",
              "      <td>35.13</td>\n",
              "      <td>35.00</td>\n",
              "      <td>33.88</td>\n",
              "      <td>33.81</td>\n",
              "      <td>33.69</td>\n",
              "      <td>33.75</td>\n",
              "      <td>35.00</td>\n",
              "      <td>35.69</td>\n",
              "      <td>36.38</td>\n",
              "      <td>36.00</td>\n",
              "      <td>37.44</td>\n",
              "      <td>36.25</td>\n",
              "      <td>35.90</td>\n",
              "      <td>36.01</td>\n",
              "      <td>35.75</td>\n",
              "      <td>35.06</td>\n",
              "      <td>33.81</td>\n",
              "      <td>34.00</td>\n",
              "      <td>33.75</td>\n",
              "      <td>33.88</td>\n",
              "      <td>33.13</td>\n",
              "      <td>33.38</td>\n",
              "      <td>34.25</td>\n",
              "      <td>34.00</td>\n",
              "      <td>33.25</td>\n",
              "      <td>32.91</td>\n",
              "      <td>32.63</td>\n",
              "      <td>33.75</td>\n",
              "      <td>34.13</td>\n",
              "      <td>34.50</td>\n",
              "      <td>33.63</td>\n",
              "      <td>...</td>\n",
              "      <td>40.15</td>\n",
              "      <td>39.60</td>\n",
              "      <td>38.30</td>\n",
              "      <td>38.31</td>\n",
              "      <td>38.59</td>\n",
              "      <td>39.34</td>\n",
              "      <td>38.45</td>\n",
              "      <td>37.00</td>\n",
              "      <td>38.17</td>\n",
              "      <td>38.14</td>\n",
              "      <td>37.80</td>\n",
              "      <td>37.02</td>\n",
              "      <td>36.54</td>\n",
              "      <td>35.80</td>\n",
              "      <td>36.03</td>\n",
              "      <td>36.98</td>\n",
              "      <td>38.55</td>\n",
              "      <td>39.75</td>\n",
              "      <td>40.10</td>\n",
              "      <td>41.10</td>\n",
              "      <td>41.50</td>\n",
              "      <td>41.25</td>\n",
              "      <td>41.02</td>\n",
              "      <td>41.79</td>\n",
              "      <td>41.00</td>\n",
              "      <td>40.74</td>\n",
              "      <td>41.75</td>\n",
              "      <td>40.26</td>\n",
              "      <td>40.86</td>\n",
              "      <td>41.37</td>\n",
              "      <td>41.10</td>\n",
              "      <td>41.65</td>\n",
              "      <td>41.86</td>\n",
              "      <td>42.33</td>\n",
              "      <td>43.00</td>\n",
              "      <td>42.65</td>\n",
              "      <td>42.96</td>\n",
              "      <td>43.01</td>\n",
              "      <td>42.70</td>\n",
              "      <td>42.57</td>\n",
              "    </tr>\n",
              "    <tr>\n",
              "      <th>2001-10-31</th>\n",
              "      <td>38.12</td>\n",
              "      <td>38.56</td>\n",
              "      <td>37.25</td>\n",
              "      <td>34.75</td>\n",
              "      <td>34.75</td>\n",
              "      <td>35.00</td>\n",
              "      <td>35.00</td>\n",
              "      <td>35.38</td>\n",
              "      <td>35.13</td>\n",
              "      <td>35.00</td>\n",
              "      <td>33.88</td>\n",
              "      <td>33.81</td>\n",
              "      <td>33.69</td>\n",
              "      <td>33.75</td>\n",
              "      <td>35.00</td>\n",
              "      <td>35.69</td>\n",
              "      <td>36.38</td>\n",
              "      <td>36.00</td>\n",
              "      <td>37.44</td>\n",
              "      <td>36.25</td>\n",
              "      <td>35.90</td>\n",
              "      <td>36.01</td>\n",
              "      <td>35.75</td>\n",
              "      <td>35.06</td>\n",
              "      <td>33.81</td>\n",
              "      <td>34.00</td>\n",
              "      <td>33.75</td>\n",
              "      <td>33.88</td>\n",
              "      <td>33.13</td>\n",
              "      <td>33.38</td>\n",
              "      <td>34.25</td>\n",
              "      <td>34.00</td>\n",
              "      <td>33.25</td>\n",
              "      <td>32.91</td>\n",
              "      <td>32.63</td>\n",
              "      <td>33.75</td>\n",
              "      <td>34.13</td>\n",
              "      <td>34.50</td>\n",
              "      <td>33.63</td>\n",
              "      <td>32.88</td>\n",
              "      <td>...</td>\n",
              "      <td>39.60</td>\n",
              "      <td>38.30</td>\n",
              "      <td>38.31</td>\n",
              "      <td>38.59</td>\n",
              "      <td>39.34</td>\n",
              "      <td>38.45</td>\n",
              "      <td>37.00</td>\n",
              "      <td>38.17</td>\n",
              "      <td>38.14</td>\n",
              "      <td>37.80</td>\n",
              "      <td>37.02</td>\n",
              "      <td>36.54</td>\n",
              "      <td>35.80</td>\n",
              "      <td>36.03</td>\n",
              "      <td>36.98</td>\n",
              "      <td>38.55</td>\n",
              "      <td>39.75</td>\n",
              "      <td>40.10</td>\n",
              "      <td>41.10</td>\n",
              "      <td>41.50</td>\n",
              "      <td>41.25</td>\n",
              "      <td>41.02</td>\n",
              "      <td>41.79</td>\n",
              "      <td>41.00</td>\n",
              "      <td>40.74</td>\n",
              "      <td>41.75</td>\n",
              "      <td>40.26</td>\n",
              "      <td>40.86</td>\n",
              "      <td>41.37</td>\n",
              "      <td>41.10</td>\n",
              "      <td>41.65</td>\n",
              "      <td>41.86</td>\n",
              "      <td>42.33</td>\n",
              "      <td>43.00</td>\n",
              "      <td>42.65</td>\n",
              "      <td>42.96</td>\n",
              "      <td>43.01</td>\n",
              "      <td>42.70</td>\n",
              "      <td>42.57</td>\n",
              "      <td>42.45</td>\n",
              "    </tr>\n",
              "    <tr>\n",
              "      <th>2001-11-01</th>\n",
              "      <td>38.56</td>\n",
              "      <td>37.25</td>\n",
              "      <td>34.75</td>\n",
              "      <td>34.75</td>\n",
              "      <td>35.00</td>\n",
              "      <td>35.00</td>\n",
              "      <td>35.38</td>\n",
              "      <td>35.13</td>\n",
              "      <td>35.00</td>\n",
              "      <td>33.88</td>\n",
              "      <td>33.81</td>\n",
              "      <td>33.69</td>\n",
              "      <td>33.75</td>\n",
              "      <td>35.00</td>\n",
              "      <td>35.69</td>\n",
              "      <td>36.38</td>\n",
              "      <td>36.00</td>\n",
              "      <td>37.44</td>\n",
              "      <td>36.25</td>\n",
              "      <td>35.90</td>\n",
              "      <td>36.01</td>\n",
              "      <td>35.75</td>\n",
              "      <td>35.06</td>\n",
              "      <td>33.81</td>\n",
              "      <td>34.00</td>\n",
              "      <td>33.75</td>\n",
              "      <td>33.88</td>\n",
              "      <td>33.13</td>\n",
              "      <td>33.38</td>\n",
              "      <td>34.25</td>\n",
              "      <td>34.00</td>\n",
              "      <td>33.25</td>\n",
              "      <td>32.91</td>\n",
              "      <td>32.63</td>\n",
              "      <td>33.75</td>\n",
              "      <td>34.13</td>\n",
              "      <td>34.50</td>\n",
              "      <td>33.63</td>\n",
              "      <td>32.88</td>\n",
              "      <td>32.69</td>\n",
              "      <td>...</td>\n",
              "      <td>38.30</td>\n",
              "      <td>38.31</td>\n",
              "      <td>38.59</td>\n",
              "      <td>39.34</td>\n",
              "      <td>38.45</td>\n",
              "      <td>37.00</td>\n",
              "      <td>38.17</td>\n",
              "      <td>38.14</td>\n",
              "      <td>37.80</td>\n",
              "      <td>37.02</td>\n",
              "      <td>36.54</td>\n",
              "      <td>35.80</td>\n",
              "      <td>36.03</td>\n",
              "      <td>36.98</td>\n",
              "      <td>38.55</td>\n",
              "      <td>39.75</td>\n",
              "      <td>40.10</td>\n",
              "      <td>41.10</td>\n",
              "      <td>41.50</td>\n",
              "      <td>41.25</td>\n",
              "      <td>41.02</td>\n",
              "      <td>41.79</td>\n",
              "      <td>41.00</td>\n",
              "      <td>40.74</td>\n",
              "      <td>41.75</td>\n",
              "      <td>40.26</td>\n",
              "      <td>40.86</td>\n",
              "      <td>41.37</td>\n",
              "      <td>41.10</td>\n",
              "      <td>41.65</td>\n",
              "      <td>41.86</td>\n",
              "      <td>42.33</td>\n",
              "      <td>43.00</td>\n",
              "      <td>42.65</td>\n",
              "      <td>42.96</td>\n",
              "      <td>43.01</td>\n",
              "      <td>42.70</td>\n",
              "      <td>42.57</td>\n",
              "      <td>42.45</td>\n",
              "      <td>41.90</td>\n",
              "    </tr>\n",
              "    <tr>\n",
              "      <th>2001-11-02</th>\n",
              "      <td>37.25</td>\n",
              "      <td>34.75</td>\n",
              "      <td>34.75</td>\n",
              "      <td>35.00</td>\n",
              "      <td>35.00</td>\n",
              "      <td>35.38</td>\n",
              "      <td>35.13</td>\n",
              "      <td>35.00</td>\n",
              "      <td>33.88</td>\n",
              "      <td>33.81</td>\n",
              "      <td>33.69</td>\n",
              "      <td>33.75</td>\n",
              "      <td>35.00</td>\n",
              "      <td>35.69</td>\n",
              "      <td>36.38</td>\n",
              "      <td>36.00</td>\n",
              "      <td>37.44</td>\n",
              "      <td>36.25</td>\n",
              "      <td>35.90</td>\n",
              "      <td>36.01</td>\n",
              "      <td>35.75</td>\n",
              "      <td>35.06</td>\n",
              "      <td>33.81</td>\n",
              "      <td>34.00</td>\n",
              "      <td>33.75</td>\n",
              "      <td>33.88</td>\n",
              "      <td>33.13</td>\n",
              "      <td>33.38</td>\n",
              "      <td>34.25</td>\n",
              "      <td>34.00</td>\n",
              "      <td>33.25</td>\n",
              "      <td>32.91</td>\n",
              "      <td>32.63</td>\n",
              "      <td>33.75</td>\n",
              "      <td>34.13</td>\n",
              "      <td>34.50</td>\n",
              "      <td>33.63</td>\n",
              "      <td>32.88</td>\n",
              "      <td>32.69</td>\n",
              "      <td>32.44</td>\n",
              "      <td>...</td>\n",
              "      <td>38.31</td>\n",
              "      <td>38.59</td>\n",
              "      <td>39.34</td>\n",
              "      <td>38.45</td>\n",
              "      <td>37.00</td>\n",
              "      <td>38.17</td>\n",
              "      <td>38.14</td>\n",
              "      <td>37.80</td>\n",
              "      <td>37.02</td>\n",
              "      <td>36.54</td>\n",
              "      <td>35.80</td>\n",
              "      <td>36.03</td>\n",
              "      <td>36.98</td>\n",
              "      <td>38.55</td>\n",
              "      <td>39.75</td>\n",
              "      <td>40.10</td>\n",
              "      <td>41.10</td>\n",
              "      <td>41.50</td>\n",
              "      <td>41.25</td>\n",
              "      <td>41.02</td>\n",
              "      <td>41.79</td>\n",
              "      <td>41.00</td>\n",
              "      <td>40.74</td>\n",
              "      <td>41.75</td>\n",
              "      <td>40.26</td>\n",
              "      <td>40.86</td>\n",
              "      <td>41.37</td>\n",
              "      <td>41.10</td>\n",
              "      <td>41.65</td>\n",
              "      <td>41.86</td>\n",
              "      <td>42.33</td>\n",
              "      <td>43.00</td>\n",
              "      <td>42.65</td>\n",
              "      <td>42.96</td>\n",
              "      <td>43.01</td>\n",
              "      <td>42.70</td>\n",
              "      <td>42.57</td>\n",
              "      <td>42.45</td>\n",
              "      <td>41.90</td>\n",
              "      <td>42.74</td>\n",
              "    </tr>\n",
              "    <tr>\n",
              "      <th>2001-11-05</th>\n",
              "      <td>34.75</td>\n",
              "      <td>34.75</td>\n",
              "      <td>35.00</td>\n",
              "      <td>35.00</td>\n",
              "      <td>35.38</td>\n",
              "      <td>35.13</td>\n",
              "      <td>35.00</td>\n",
              "      <td>33.88</td>\n",
              "      <td>33.81</td>\n",
              "      <td>33.69</td>\n",
              "      <td>33.75</td>\n",
              "      <td>35.00</td>\n",
              "      <td>35.69</td>\n",
              "      <td>36.38</td>\n",
              "      <td>36.00</td>\n",
              "      <td>37.44</td>\n",
              "      <td>36.25</td>\n",
              "      <td>35.90</td>\n",
              "      <td>36.01</td>\n",
              "      <td>35.75</td>\n",
              "      <td>35.06</td>\n",
              "      <td>33.81</td>\n",
              "      <td>34.00</td>\n",
              "      <td>33.75</td>\n",
              "      <td>33.88</td>\n",
              "      <td>33.13</td>\n",
              "      <td>33.38</td>\n",
              "      <td>34.25</td>\n",
              "      <td>34.00</td>\n",
              "      <td>33.25</td>\n",
              "      <td>32.91</td>\n",
              "      <td>32.63</td>\n",
              "      <td>33.75</td>\n",
              "      <td>34.13</td>\n",
              "      <td>34.50</td>\n",
              "      <td>33.63</td>\n",
              "      <td>32.88</td>\n",
              "      <td>32.69</td>\n",
              "      <td>32.44</td>\n",
              "      <td>31.88</td>\n",
              "      <td>...</td>\n",
              "      <td>38.59</td>\n",
              "      <td>39.34</td>\n",
              "      <td>38.45</td>\n",
              "      <td>37.00</td>\n",
              "      <td>38.17</td>\n",
              "      <td>38.14</td>\n",
              "      <td>37.80</td>\n",
              "      <td>37.02</td>\n",
              "      <td>36.54</td>\n",
              "      <td>35.80</td>\n",
              "      <td>36.03</td>\n",
              "      <td>36.98</td>\n",
              "      <td>38.55</td>\n",
              "      <td>39.75</td>\n",
              "      <td>40.10</td>\n",
              "      <td>41.10</td>\n",
              "      <td>41.50</td>\n",
              "      <td>41.25</td>\n",
              "      <td>41.02</td>\n",
              "      <td>41.79</td>\n",
              "      <td>41.00</td>\n",
              "      <td>40.74</td>\n",
              "      <td>41.75</td>\n",
              "      <td>40.26</td>\n",
              "      <td>40.86</td>\n",
              "      <td>41.37</td>\n",
              "      <td>41.10</td>\n",
              "      <td>41.65</td>\n",
              "      <td>41.86</td>\n",
              "      <td>42.33</td>\n",
              "      <td>43.00</td>\n",
              "      <td>42.65</td>\n",
              "      <td>42.96</td>\n",
              "      <td>43.01</td>\n",
              "      <td>42.70</td>\n",
              "      <td>42.57</td>\n",
              "      <td>42.45</td>\n",
              "      <td>41.90</td>\n",
              "      <td>42.74</td>\n",
              "      <td>42.20</td>\n",
              "    </tr>\n",
              "  </tbody>\n",
              "</table>\n",
              "<p>5 rows × 500 columns</p>\n",
              "</div>"
            ],
            "text/plain": [
              "              0      1      2      3    ...    496    497    498    499\n",
              "date                                    ...                            \n",
              "2001-10-30  38.50  38.12  38.56  37.25  ...  42.96  43.01  42.70  42.57\n",
              "2001-10-31  38.12  38.56  37.25  34.75  ...  43.01  42.70  42.57  42.45\n",
              "2001-11-01  38.56  37.25  34.75  34.75  ...  42.70  42.57  42.45  41.90\n",
              "2001-11-02  37.25  34.75  34.75  35.00  ...  42.57  42.45  41.90  42.74\n",
              "2001-11-05  34.75  34.75  35.00  35.00  ...  42.45  41.90  42.74  42.20\n",
              "\n",
              "[5 rows x 500 columns]"
            ]
          },
          "metadata": {
            "tags": []
          },
          "execution_count": 89
        }
      ]
    },
    {
      "cell_type": "code",
      "metadata": {
        "id": "7eI4ao3gPp96"
      },
      "source": [
        "def weekly_labelling(df): \n",
        "    per_change = (df.pct_change(periods = 7) * 100) \n",
        "    for i in df.columns: \n",
        "        df[i + ' week_fall'] = per_change[i].apply(lambda x: 1 if x<-2 else 0)\n",
        "    return df"
      ],
      "execution_count": null,
      "outputs": []
    },
    {
      "cell_type": "code",
      "metadata": {
        "id": "2AzeCbDrPp98",
        "colab": {
          "base_uri": "https://localhost:8080/",
          "height": 654
        },
        "outputId": "449a27ba-87da-4597-8795-5888502d13b4"
      },
      "source": [
        "weekly_labelling(df)"
      ],
      "execution_count": null,
      "outputs": [
        {
          "output_type": "execute_result",
          "data": {
            "text/html": [
              "<div>\n",
              "<style scoped>\n",
              "    .dataframe tbody tr th:only-of-type {\n",
              "        vertical-align: middle;\n",
              "    }\n",
              "\n",
              "    .dataframe tbody tr th {\n",
              "        vertical-align: top;\n",
              "    }\n",
              "\n",
              "    .dataframe thead th {\n",
              "        text-align: right;\n",
              "    }\n",
              "</style>\n",
              "<table border=\"1\" class=\"dataframe\">\n",
              "  <thead>\n",
              "    <tr style=\"text-align: right;\">\n",
              "      <th></th>\n",
              "      <th>PFE</th>\n",
              "      <th>BMY</th>\n",
              "      <th>ABT</th>\n",
              "      <th>JNJ</th>\n",
              "      <th>BIIB</th>\n",
              "      <th>PFE week_fall</th>\n",
              "      <th>BMY week_fall</th>\n",
              "      <th>ABT week_fall</th>\n",
              "      <th>JNJ week_fall</th>\n",
              "      <th>BIIB week_fall</th>\n",
              "      <th>PFE week_fall week_fall</th>\n",
              "      <th>BMY week_fall week_fall</th>\n",
              "      <th>ABT week_fall week_fall</th>\n",
              "      <th>JNJ week_fall week_fall</th>\n",
              "      <th>BIIB week_fall week_fall</th>\n",
              "    </tr>\n",
              "    <tr>\n",
              "      <th>date</th>\n",
              "      <th></th>\n",
              "      <th></th>\n",
              "      <th></th>\n",
              "      <th></th>\n",
              "      <th></th>\n",
              "      <th></th>\n",
              "      <th></th>\n",
              "      <th></th>\n",
              "      <th></th>\n",
              "      <th></th>\n",
              "      <th></th>\n",
              "      <th></th>\n",
              "      <th></th>\n",
              "      <th></th>\n",
              "      <th></th>\n",
              "    </tr>\n",
              "  </thead>\n",
              "  <tbody>\n",
              "    <tr>\n",
              "      <th>1999-11-01</th>\n",
              "      <td>38.50</td>\n",
              "      <td>77.25</td>\n",
              "      <td>40.31</td>\n",
              "      <td>105.10</td>\n",
              "      <td>121.50</td>\n",
              "      <td>0</td>\n",
              "      <td>0</td>\n",
              "      <td>0</td>\n",
              "      <td>0</td>\n",
              "      <td>0</td>\n",
              "      <td>0</td>\n",
              "      <td>0</td>\n",
              "      <td>0</td>\n",
              "      <td>0</td>\n",
              "      <td>0</td>\n",
              "    </tr>\n",
              "    <tr>\n",
              "      <th>1999-11-02</th>\n",
              "      <td>38.12</td>\n",
              "      <td>74.75</td>\n",
              "      <td>38.00</td>\n",
              "      <td>102.50</td>\n",
              "      <td>116.06</td>\n",
              "      <td>0</td>\n",
              "      <td>0</td>\n",
              "      <td>0</td>\n",
              "      <td>0</td>\n",
              "      <td>0</td>\n",
              "      <td>0</td>\n",
              "      <td>0</td>\n",
              "      <td>0</td>\n",
              "      <td>0</td>\n",
              "      <td>0</td>\n",
              "    </tr>\n",
              "    <tr>\n",
              "      <th>1999-11-03</th>\n",
              "      <td>38.56</td>\n",
              "      <td>76.13</td>\n",
              "      <td>36.81</td>\n",
              "      <td>104.30</td>\n",
              "      <td>119.37</td>\n",
              "      <td>0</td>\n",
              "      <td>0</td>\n",
              "      <td>0</td>\n",
              "      <td>0</td>\n",
              "      <td>0</td>\n",
              "      <td>0</td>\n",
              "      <td>0</td>\n",
              "      <td>0</td>\n",
              "      <td>0</td>\n",
              "      <td>0</td>\n",
              "    </tr>\n",
              "    <tr>\n",
              "      <th>1999-11-04</th>\n",
              "      <td>37.25</td>\n",
              "      <td>76.25</td>\n",
              "      <td>37.88</td>\n",
              "      <td>105.30</td>\n",
              "      <td>125.62</td>\n",
              "      <td>0</td>\n",
              "      <td>0</td>\n",
              "      <td>0</td>\n",
              "      <td>0</td>\n",
              "      <td>0</td>\n",
              "      <td>0</td>\n",
              "      <td>0</td>\n",
              "      <td>0</td>\n",
              "      <td>0</td>\n",
              "      <td>0</td>\n",
              "    </tr>\n",
              "    <tr>\n",
              "      <th>1999-11-05</th>\n",
              "      <td>34.75</td>\n",
              "      <td>76.13</td>\n",
              "      <td>38.44</td>\n",
              "      <td>105.50</td>\n",
              "      <td>126.63</td>\n",
              "      <td>0</td>\n",
              "      <td>0</td>\n",
              "      <td>0</td>\n",
              "      <td>0</td>\n",
              "      <td>0</td>\n",
              "      <td>0</td>\n",
              "      <td>0</td>\n",
              "      <td>0</td>\n",
              "      <td>0</td>\n",
              "      <td>0</td>\n",
              "    </tr>\n",
              "    <tr>\n",
              "      <th>...</th>\n",
              "      <td>...</td>\n",
              "      <td>...</td>\n",
              "      <td>...</td>\n",
              "      <td>...</td>\n",
              "      <td>...</td>\n",
              "      <td>...</td>\n",
              "      <td>...</td>\n",
              "      <td>...</td>\n",
              "      <td>...</td>\n",
              "      <td>...</td>\n",
              "      <td>...</td>\n",
              "      <td>...</td>\n",
              "      <td>...</td>\n",
              "      <td>...</td>\n",
              "      <td>...</td>\n",
              "    </tr>\n",
              "    <tr>\n",
              "      <th>2020-08-31</th>\n",
              "      <td>37.79</td>\n",
              "      <td>62.20</td>\n",
              "      <td>109.47</td>\n",
              "      <td>153.41</td>\n",
              "      <td>287.64</td>\n",
              "      <td>1</td>\n",
              "      <td>0</td>\n",
              "      <td>0</td>\n",
              "      <td>0</td>\n",
              "      <td>0</td>\n",
              "      <td>0</td>\n",
              "      <td>0</td>\n",
              "      <td>0</td>\n",
              "      <td>0</td>\n",
              "      <td>1</td>\n",
              "    </tr>\n",
              "    <tr>\n",
              "      <th>2020-09-01</th>\n",
              "      <td>36.88</td>\n",
              "      <td>60.97</td>\n",
              "      <td>106.55</td>\n",
              "      <td>151.52</td>\n",
              "      <td>279.75</td>\n",
              "      <td>1</td>\n",
              "      <td>0</td>\n",
              "      <td>0</td>\n",
              "      <td>0</td>\n",
              "      <td>0</td>\n",
              "      <td>0</td>\n",
              "      <td>1</td>\n",
              "      <td>0</td>\n",
              "      <td>0</td>\n",
              "      <td>1</td>\n",
              "    </tr>\n",
              "    <tr>\n",
              "      <th>2020-09-02</th>\n",
              "      <td>37.20</td>\n",
              "      <td>61.60</td>\n",
              "      <td>109.44</td>\n",
              "      <td>153.83</td>\n",
              "      <td>285.60</td>\n",
              "      <td>1</td>\n",
              "      <td>0</td>\n",
              "      <td>0</td>\n",
              "      <td>0</td>\n",
              "      <td>0</td>\n",
              "      <td>0</td>\n",
              "      <td>0</td>\n",
              "      <td>0</td>\n",
              "      <td>0</td>\n",
              "      <td>1</td>\n",
              "    </tr>\n",
              "    <tr>\n",
              "      <th>2020-09-03</th>\n",
              "      <td>36.40</td>\n",
              "      <td>60.05</td>\n",
              "      <td>105.53</td>\n",
              "      <td>149.55</td>\n",
              "      <td>276.15</td>\n",
              "      <td>1</td>\n",
              "      <td>1</td>\n",
              "      <td>0</td>\n",
              "      <td>0</td>\n",
              "      <td>0</td>\n",
              "      <td>0</td>\n",
              "      <td>0</td>\n",
              "      <td>0</td>\n",
              "      <td>0</td>\n",
              "      <td>1</td>\n",
              "    </tr>\n",
              "    <tr>\n",
              "      <th>2020-09-04</th>\n",
              "      <td>36.36</td>\n",
              "      <td>59.95</td>\n",
              "      <td>104.16</td>\n",
              "      <td>148.59</td>\n",
              "      <td>276.00</td>\n",
              "      <td>1</td>\n",
              "      <td>1</td>\n",
              "      <td>0</td>\n",
              "      <td>1</td>\n",
              "      <td>0</td>\n",
              "      <td>0</td>\n",
              "      <td>0</td>\n",
              "      <td>0</td>\n",
              "      <td>0</td>\n",
              "      <td>1</td>\n",
              "    </tr>\n",
              "  </tbody>\n",
              "</table>\n",
              "<p>5246 rows × 15 columns</p>\n",
              "</div>"
            ],
            "text/plain": [
              "              PFE    BMY  ...  JNJ week_fall week_fall  BIIB week_fall week_fall\n",
              "date                      ...                                                   \n",
              "1999-11-01  38.50  77.25  ...                        0                         0\n",
              "1999-11-02  38.12  74.75  ...                        0                         0\n",
              "1999-11-03  38.56  76.13  ...                        0                         0\n",
              "1999-11-04  37.25  76.25  ...                        0                         0\n",
              "1999-11-05  34.75  76.13  ...                        0                         0\n",
              "...           ...    ...  ...                      ...                       ...\n",
              "2020-08-31  37.79  62.20  ...                        0                         1\n",
              "2020-09-01  36.88  60.97  ...                        0                         1\n",
              "2020-09-02  37.20  61.60  ...                        0                         1\n",
              "2020-09-03  36.40  60.05  ...                        0                         1\n",
              "2020-09-04  36.36  59.95  ...                        0                         1\n",
              "\n",
              "[5246 rows x 15 columns]"
            ]
          },
          "metadata": {
            "tags": []
          },
          "execution_count": 91
        }
      ]
    },
    {
      "cell_type": "code",
      "metadata": {
        "id": "7tEDW5PzPp9-"
      },
      "source": [
        "new_df1 = df[['PFE','PFE week_fall']].iloc[500:]"
      ],
      "execution_count": null,
      "outputs": []
    },
    {
      "cell_type": "code",
      "metadata": {
        "id": "EE0Mg2llPp-A"
      },
      "source": [
        "final_df = pd.concat([new_df,new_df1],axis = 1,join = 'outer')"
      ],
      "execution_count": null,
      "outputs": []
    },
    {
      "cell_type": "code",
      "metadata": {
        "id": "rWY8EJuGPp-C",
        "colab": {
          "base_uri": "https://localhost:8080/",
          "height": 386
        },
        "outputId": "fe563694-8b49-4e74-a2a4-97435048a6fa"
      },
      "source": [
        "final_df.tail()"
      ],
      "execution_count": null,
      "outputs": [
        {
          "output_type": "execute_result",
          "data": {
            "text/html": [
              "<div>\n",
              "<style scoped>\n",
              "    .dataframe tbody tr th:only-of-type {\n",
              "        vertical-align: middle;\n",
              "    }\n",
              "\n",
              "    .dataframe tbody tr th {\n",
              "        vertical-align: top;\n",
              "    }\n",
              "\n",
              "    .dataframe thead th {\n",
              "        text-align: right;\n",
              "    }\n",
              "</style>\n",
              "<table border=\"1\" class=\"dataframe\">\n",
              "  <thead>\n",
              "    <tr style=\"text-align: right;\">\n",
              "      <th></th>\n",
              "      <th>0</th>\n",
              "      <th>1</th>\n",
              "      <th>2</th>\n",
              "      <th>3</th>\n",
              "      <th>4</th>\n",
              "      <th>5</th>\n",
              "      <th>6</th>\n",
              "      <th>7</th>\n",
              "      <th>8</th>\n",
              "      <th>9</th>\n",
              "      <th>10</th>\n",
              "      <th>11</th>\n",
              "      <th>12</th>\n",
              "      <th>13</th>\n",
              "      <th>14</th>\n",
              "      <th>15</th>\n",
              "      <th>16</th>\n",
              "      <th>17</th>\n",
              "      <th>18</th>\n",
              "      <th>19</th>\n",
              "      <th>20</th>\n",
              "      <th>21</th>\n",
              "      <th>22</th>\n",
              "      <th>23</th>\n",
              "      <th>24</th>\n",
              "      <th>25</th>\n",
              "      <th>26</th>\n",
              "      <th>27</th>\n",
              "      <th>28</th>\n",
              "      <th>29</th>\n",
              "      <th>30</th>\n",
              "      <th>31</th>\n",
              "      <th>32</th>\n",
              "      <th>33</th>\n",
              "      <th>34</th>\n",
              "      <th>35</th>\n",
              "      <th>36</th>\n",
              "      <th>37</th>\n",
              "      <th>38</th>\n",
              "      <th>39</th>\n",
              "      <th>...</th>\n",
              "      <th>462</th>\n",
              "      <th>463</th>\n",
              "      <th>464</th>\n",
              "      <th>465</th>\n",
              "      <th>466</th>\n",
              "      <th>467</th>\n",
              "      <th>468</th>\n",
              "      <th>469</th>\n",
              "      <th>470</th>\n",
              "      <th>471</th>\n",
              "      <th>472</th>\n",
              "      <th>473</th>\n",
              "      <th>474</th>\n",
              "      <th>475</th>\n",
              "      <th>476</th>\n",
              "      <th>477</th>\n",
              "      <th>478</th>\n",
              "      <th>479</th>\n",
              "      <th>480</th>\n",
              "      <th>481</th>\n",
              "      <th>482</th>\n",
              "      <th>483</th>\n",
              "      <th>484</th>\n",
              "      <th>485</th>\n",
              "      <th>486</th>\n",
              "      <th>487</th>\n",
              "      <th>488</th>\n",
              "      <th>489</th>\n",
              "      <th>490</th>\n",
              "      <th>491</th>\n",
              "      <th>492</th>\n",
              "      <th>493</th>\n",
              "      <th>494</th>\n",
              "      <th>495</th>\n",
              "      <th>496</th>\n",
              "      <th>497</th>\n",
              "      <th>498</th>\n",
              "      <th>499</th>\n",
              "      <th>PFE</th>\n",
              "      <th>PFE week_fall</th>\n",
              "    </tr>\n",
              "    <tr>\n",
              "      <th>date</th>\n",
              "      <th></th>\n",
              "      <th></th>\n",
              "      <th></th>\n",
              "      <th></th>\n",
              "      <th></th>\n",
              "      <th></th>\n",
              "      <th></th>\n",
              "      <th></th>\n",
              "      <th></th>\n",
              "      <th></th>\n",
              "      <th></th>\n",
              "      <th></th>\n",
              "      <th></th>\n",
              "      <th></th>\n",
              "      <th></th>\n",
              "      <th></th>\n",
              "      <th></th>\n",
              "      <th></th>\n",
              "      <th></th>\n",
              "      <th></th>\n",
              "      <th></th>\n",
              "      <th></th>\n",
              "      <th></th>\n",
              "      <th></th>\n",
              "      <th></th>\n",
              "      <th></th>\n",
              "      <th></th>\n",
              "      <th></th>\n",
              "      <th></th>\n",
              "      <th></th>\n",
              "      <th></th>\n",
              "      <th></th>\n",
              "      <th></th>\n",
              "      <th></th>\n",
              "      <th></th>\n",
              "      <th></th>\n",
              "      <th></th>\n",
              "      <th></th>\n",
              "      <th></th>\n",
              "      <th></th>\n",
              "      <th></th>\n",
              "      <th></th>\n",
              "      <th></th>\n",
              "      <th></th>\n",
              "      <th></th>\n",
              "      <th></th>\n",
              "      <th></th>\n",
              "      <th></th>\n",
              "      <th></th>\n",
              "      <th></th>\n",
              "      <th></th>\n",
              "      <th></th>\n",
              "      <th></th>\n",
              "      <th></th>\n",
              "      <th></th>\n",
              "      <th></th>\n",
              "      <th></th>\n",
              "      <th></th>\n",
              "      <th></th>\n",
              "      <th></th>\n",
              "      <th></th>\n",
              "      <th></th>\n",
              "      <th></th>\n",
              "      <th></th>\n",
              "      <th></th>\n",
              "      <th></th>\n",
              "      <th></th>\n",
              "      <th></th>\n",
              "      <th></th>\n",
              "      <th></th>\n",
              "      <th></th>\n",
              "      <th></th>\n",
              "      <th></th>\n",
              "      <th></th>\n",
              "      <th></th>\n",
              "      <th></th>\n",
              "      <th></th>\n",
              "      <th></th>\n",
              "      <th></th>\n",
              "      <th></th>\n",
              "      <th></th>\n",
              "    </tr>\n",
              "  </thead>\n",
              "  <tbody>\n",
              "    <tr>\n",
              "      <th>2020-08-31</th>\n",
              "      <td>41.85</td>\n",
              "      <td>41.78</td>\n",
              "      <td>42.20</td>\n",
              "      <td>42.06</td>\n",
              "      <td>42.31</td>\n",
              "      <td>42.41</td>\n",
              "      <td>42.85</td>\n",
              "      <td>42.96</td>\n",
              "      <td>43.01</td>\n",
              "      <td>43.51</td>\n",
              "      <td>43.26</td>\n",
              "      <td>43.75</td>\n",
              "      <td>44.06</td>\n",
              "      <td>43.93</td>\n",
              "      <td>43.79</td>\n",
              "      <td>43.68</td>\n",
              "      <td>43.90</td>\n",
              "      <td>44.07</td>\n",
              "      <td>44.27</td>\n",
              "      <td>44.22</td>\n",
              "      <td>44.81</td>\n",
              "      <td>44.70</td>\n",
              "      <td>44.91</td>\n",
              "      <td>45.28</td>\n",
              "      <td>45.47</td>\n",
              "      <td>44.51</td>\n",
              "      <td>42.81</td>\n",
              "      <td>43.78</td>\n",
              "      <td>43.12</td>\n",
              "      <td>43.93</td>\n",
              "      <td>44.57</td>\n",
              "      <td>44.00</td>\n",
              "      <td>44.50</td>\n",
              "      <td>44.37</td>\n",
              "      <td>44.10</td>\n",
              "      <td>42.48</td>\n",
              "      <td>43.41</td>\n",
              "      <td>42.60</td>\n",
              "      <td>43.23</td>\n",
              "      <td>42.89</td>\n",
              "      <td>...</td>\n",
              "      <td>33.75</td>\n",
              "      <td>33.46</td>\n",
              "      <td>33.83</td>\n",
              "      <td>35.21</td>\n",
              "      <td>35.23</td>\n",
              "      <td>35.72</td>\n",
              "      <td>35.60</td>\n",
              "      <td>36.25</td>\n",
              "      <td>36.50</td>\n",
              "      <td>36.69</td>\n",
              "      <td>38.56</td>\n",
              "      <td>38.41</td>\n",
              "      <td>37.66</td>\n",
              "      <td>37.54</td>\n",
              "      <td>39.02</td>\n",
              "      <td>39.26</td>\n",
              "      <td>38.74</td>\n",
              "      <td>38.48</td>\n",
              "      <td>38.35</td>\n",
              "      <td>38.39</td>\n",
              "      <td>38.45</td>\n",
              "      <td>38.27</td>\n",
              "      <td>38.45</td>\n",
              "      <td>38.39</td>\n",
              "      <td>37.79</td>\n",
              "      <td>38.33</td>\n",
              "      <td>38.17</td>\n",
              "      <td>38.06</td>\n",
              "      <td>38.35</td>\n",
              "      <td>38.36</td>\n",
              "      <td>38.26</td>\n",
              "      <td>38.72</td>\n",
              "      <td>38.88</td>\n",
              "      <td>38.84</td>\n",
              "      <td>38.41</td>\n",
              "      <td>38.05</td>\n",
              "      <td>37.86</td>\n",
              "      <td>37.91</td>\n",
              "      <td>37.79</td>\n",
              "      <td>1</td>\n",
              "    </tr>\n",
              "    <tr>\n",
              "      <th>2020-09-01</th>\n",
              "      <td>41.78</td>\n",
              "      <td>42.20</td>\n",
              "      <td>42.06</td>\n",
              "      <td>42.31</td>\n",
              "      <td>42.41</td>\n",
              "      <td>42.85</td>\n",
              "      <td>42.96</td>\n",
              "      <td>43.01</td>\n",
              "      <td>43.51</td>\n",
              "      <td>43.26</td>\n",
              "      <td>43.75</td>\n",
              "      <td>44.06</td>\n",
              "      <td>43.93</td>\n",
              "      <td>43.79</td>\n",
              "      <td>43.68</td>\n",
              "      <td>43.90</td>\n",
              "      <td>44.07</td>\n",
              "      <td>44.27</td>\n",
              "      <td>44.22</td>\n",
              "      <td>44.81</td>\n",
              "      <td>44.70</td>\n",
              "      <td>44.91</td>\n",
              "      <td>45.28</td>\n",
              "      <td>45.47</td>\n",
              "      <td>44.51</td>\n",
              "      <td>42.81</td>\n",
              "      <td>43.78</td>\n",
              "      <td>43.12</td>\n",
              "      <td>43.93</td>\n",
              "      <td>44.57</td>\n",
              "      <td>44.00</td>\n",
              "      <td>44.50</td>\n",
              "      <td>44.37</td>\n",
              "      <td>44.10</td>\n",
              "      <td>42.48</td>\n",
              "      <td>43.41</td>\n",
              "      <td>42.60</td>\n",
              "      <td>43.23</td>\n",
              "      <td>42.89</td>\n",
              "      <td>43.06</td>\n",
              "      <td>...</td>\n",
              "      <td>33.46</td>\n",
              "      <td>33.83</td>\n",
              "      <td>35.21</td>\n",
              "      <td>35.23</td>\n",
              "      <td>35.72</td>\n",
              "      <td>35.60</td>\n",
              "      <td>36.25</td>\n",
              "      <td>36.50</td>\n",
              "      <td>36.69</td>\n",
              "      <td>38.56</td>\n",
              "      <td>38.41</td>\n",
              "      <td>37.66</td>\n",
              "      <td>37.54</td>\n",
              "      <td>39.02</td>\n",
              "      <td>39.26</td>\n",
              "      <td>38.74</td>\n",
              "      <td>38.48</td>\n",
              "      <td>38.35</td>\n",
              "      <td>38.39</td>\n",
              "      <td>38.45</td>\n",
              "      <td>38.27</td>\n",
              "      <td>38.45</td>\n",
              "      <td>38.39</td>\n",
              "      <td>37.79</td>\n",
              "      <td>38.33</td>\n",
              "      <td>38.17</td>\n",
              "      <td>38.06</td>\n",
              "      <td>38.35</td>\n",
              "      <td>38.36</td>\n",
              "      <td>38.26</td>\n",
              "      <td>38.72</td>\n",
              "      <td>38.88</td>\n",
              "      <td>38.84</td>\n",
              "      <td>38.41</td>\n",
              "      <td>38.05</td>\n",
              "      <td>37.86</td>\n",
              "      <td>37.91</td>\n",
              "      <td>37.79</td>\n",
              "      <td>36.88</td>\n",
              "      <td>1</td>\n",
              "    </tr>\n",
              "    <tr>\n",
              "      <th>2020-09-02</th>\n",
              "      <td>42.20</td>\n",
              "      <td>42.06</td>\n",
              "      <td>42.31</td>\n",
              "      <td>42.41</td>\n",
              "      <td>42.85</td>\n",
              "      <td>42.96</td>\n",
              "      <td>43.01</td>\n",
              "      <td>43.51</td>\n",
              "      <td>43.26</td>\n",
              "      <td>43.75</td>\n",
              "      <td>44.06</td>\n",
              "      <td>43.93</td>\n",
              "      <td>43.79</td>\n",
              "      <td>43.68</td>\n",
              "      <td>43.90</td>\n",
              "      <td>44.07</td>\n",
              "      <td>44.27</td>\n",
              "      <td>44.22</td>\n",
              "      <td>44.81</td>\n",
              "      <td>44.70</td>\n",
              "      <td>44.91</td>\n",
              "      <td>45.28</td>\n",
              "      <td>45.47</td>\n",
              "      <td>44.51</td>\n",
              "      <td>42.81</td>\n",
              "      <td>43.78</td>\n",
              "      <td>43.12</td>\n",
              "      <td>43.93</td>\n",
              "      <td>44.57</td>\n",
              "      <td>44.00</td>\n",
              "      <td>44.50</td>\n",
              "      <td>44.37</td>\n",
              "      <td>44.10</td>\n",
              "      <td>42.48</td>\n",
              "      <td>43.41</td>\n",
              "      <td>42.60</td>\n",
              "      <td>43.23</td>\n",
              "      <td>42.89</td>\n",
              "      <td>43.06</td>\n",
              "      <td>43.67</td>\n",
              "      <td>...</td>\n",
              "      <td>33.83</td>\n",
              "      <td>35.21</td>\n",
              "      <td>35.23</td>\n",
              "      <td>35.72</td>\n",
              "      <td>35.60</td>\n",
              "      <td>36.25</td>\n",
              "      <td>36.50</td>\n",
              "      <td>36.69</td>\n",
              "      <td>38.56</td>\n",
              "      <td>38.41</td>\n",
              "      <td>37.66</td>\n",
              "      <td>37.54</td>\n",
              "      <td>39.02</td>\n",
              "      <td>39.26</td>\n",
              "      <td>38.74</td>\n",
              "      <td>38.48</td>\n",
              "      <td>38.35</td>\n",
              "      <td>38.39</td>\n",
              "      <td>38.45</td>\n",
              "      <td>38.27</td>\n",
              "      <td>38.45</td>\n",
              "      <td>38.39</td>\n",
              "      <td>37.79</td>\n",
              "      <td>38.33</td>\n",
              "      <td>38.17</td>\n",
              "      <td>38.06</td>\n",
              "      <td>38.35</td>\n",
              "      <td>38.36</td>\n",
              "      <td>38.26</td>\n",
              "      <td>38.72</td>\n",
              "      <td>38.88</td>\n",
              "      <td>38.84</td>\n",
              "      <td>38.41</td>\n",
              "      <td>38.05</td>\n",
              "      <td>37.86</td>\n",
              "      <td>37.91</td>\n",
              "      <td>37.79</td>\n",
              "      <td>36.88</td>\n",
              "      <td>37.20</td>\n",
              "      <td>1</td>\n",
              "    </tr>\n",
              "    <tr>\n",
              "      <th>2020-09-03</th>\n",
              "      <td>42.06</td>\n",
              "      <td>42.31</td>\n",
              "      <td>42.41</td>\n",
              "      <td>42.85</td>\n",
              "      <td>42.96</td>\n",
              "      <td>43.01</td>\n",
              "      <td>43.51</td>\n",
              "      <td>43.26</td>\n",
              "      <td>43.75</td>\n",
              "      <td>44.06</td>\n",
              "      <td>43.93</td>\n",
              "      <td>43.79</td>\n",
              "      <td>43.68</td>\n",
              "      <td>43.90</td>\n",
              "      <td>44.07</td>\n",
              "      <td>44.27</td>\n",
              "      <td>44.22</td>\n",
              "      <td>44.81</td>\n",
              "      <td>44.70</td>\n",
              "      <td>44.91</td>\n",
              "      <td>45.28</td>\n",
              "      <td>45.47</td>\n",
              "      <td>44.51</td>\n",
              "      <td>42.81</td>\n",
              "      <td>43.78</td>\n",
              "      <td>43.12</td>\n",
              "      <td>43.93</td>\n",
              "      <td>44.57</td>\n",
              "      <td>44.00</td>\n",
              "      <td>44.50</td>\n",
              "      <td>44.37</td>\n",
              "      <td>44.10</td>\n",
              "      <td>42.48</td>\n",
              "      <td>43.41</td>\n",
              "      <td>42.60</td>\n",
              "      <td>43.23</td>\n",
              "      <td>42.89</td>\n",
              "      <td>43.06</td>\n",
              "      <td>43.67</td>\n",
              "      <td>42.93</td>\n",
              "      <td>...</td>\n",
              "      <td>35.21</td>\n",
              "      <td>35.23</td>\n",
              "      <td>35.72</td>\n",
              "      <td>35.60</td>\n",
              "      <td>36.25</td>\n",
              "      <td>36.50</td>\n",
              "      <td>36.69</td>\n",
              "      <td>38.56</td>\n",
              "      <td>38.41</td>\n",
              "      <td>37.66</td>\n",
              "      <td>37.54</td>\n",
              "      <td>39.02</td>\n",
              "      <td>39.26</td>\n",
              "      <td>38.74</td>\n",
              "      <td>38.48</td>\n",
              "      <td>38.35</td>\n",
              "      <td>38.39</td>\n",
              "      <td>38.45</td>\n",
              "      <td>38.27</td>\n",
              "      <td>38.45</td>\n",
              "      <td>38.39</td>\n",
              "      <td>37.79</td>\n",
              "      <td>38.33</td>\n",
              "      <td>38.17</td>\n",
              "      <td>38.06</td>\n",
              "      <td>38.35</td>\n",
              "      <td>38.36</td>\n",
              "      <td>38.26</td>\n",
              "      <td>38.72</td>\n",
              "      <td>38.88</td>\n",
              "      <td>38.84</td>\n",
              "      <td>38.41</td>\n",
              "      <td>38.05</td>\n",
              "      <td>37.86</td>\n",
              "      <td>37.91</td>\n",
              "      <td>37.79</td>\n",
              "      <td>36.88</td>\n",
              "      <td>37.20</td>\n",
              "      <td>36.40</td>\n",
              "      <td>1</td>\n",
              "    </tr>\n",
              "    <tr>\n",
              "      <th>2020-09-04</th>\n",
              "      <td>42.31</td>\n",
              "      <td>42.41</td>\n",
              "      <td>42.85</td>\n",
              "      <td>42.96</td>\n",
              "      <td>43.01</td>\n",
              "      <td>43.51</td>\n",
              "      <td>43.26</td>\n",
              "      <td>43.75</td>\n",
              "      <td>44.06</td>\n",
              "      <td>43.93</td>\n",
              "      <td>43.79</td>\n",
              "      <td>43.68</td>\n",
              "      <td>43.90</td>\n",
              "      <td>44.07</td>\n",
              "      <td>44.27</td>\n",
              "      <td>44.22</td>\n",
              "      <td>44.81</td>\n",
              "      <td>44.70</td>\n",
              "      <td>44.91</td>\n",
              "      <td>45.28</td>\n",
              "      <td>45.47</td>\n",
              "      <td>44.51</td>\n",
              "      <td>42.81</td>\n",
              "      <td>43.78</td>\n",
              "      <td>43.12</td>\n",
              "      <td>43.93</td>\n",
              "      <td>44.57</td>\n",
              "      <td>44.00</td>\n",
              "      <td>44.50</td>\n",
              "      <td>44.37</td>\n",
              "      <td>44.10</td>\n",
              "      <td>42.48</td>\n",
              "      <td>43.41</td>\n",
              "      <td>42.60</td>\n",
              "      <td>43.23</td>\n",
              "      <td>42.89</td>\n",
              "      <td>43.06</td>\n",
              "      <td>43.67</td>\n",
              "      <td>42.93</td>\n",
              "      <td>43.52</td>\n",
              "      <td>...</td>\n",
              "      <td>35.23</td>\n",
              "      <td>35.72</td>\n",
              "      <td>35.60</td>\n",
              "      <td>36.25</td>\n",
              "      <td>36.50</td>\n",
              "      <td>36.69</td>\n",
              "      <td>38.56</td>\n",
              "      <td>38.41</td>\n",
              "      <td>37.66</td>\n",
              "      <td>37.54</td>\n",
              "      <td>39.02</td>\n",
              "      <td>39.26</td>\n",
              "      <td>38.74</td>\n",
              "      <td>38.48</td>\n",
              "      <td>38.35</td>\n",
              "      <td>38.39</td>\n",
              "      <td>38.45</td>\n",
              "      <td>38.27</td>\n",
              "      <td>38.45</td>\n",
              "      <td>38.39</td>\n",
              "      <td>37.79</td>\n",
              "      <td>38.33</td>\n",
              "      <td>38.17</td>\n",
              "      <td>38.06</td>\n",
              "      <td>38.35</td>\n",
              "      <td>38.36</td>\n",
              "      <td>38.26</td>\n",
              "      <td>38.72</td>\n",
              "      <td>38.88</td>\n",
              "      <td>38.84</td>\n",
              "      <td>38.41</td>\n",
              "      <td>38.05</td>\n",
              "      <td>37.86</td>\n",
              "      <td>37.91</td>\n",
              "      <td>37.79</td>\n",
              "      <td>36.88</td>\n",
              "      <td>37.20</td>\n",
              "      <td>36.40</td>\n",
              "      <td>36.36</td>\n",
              "      <td>1</td>\n",
              "    </tr>\n",
              "  </tbody>\n",
              "</table>\n",
              "<p>5 rows × 502 columns</p>\n",
              "</div>"
            ],
            "text/plain": [
              "                0      1      2      3  ...    498    499    PFE  PFE week_fall\n",
              "date                                    ...                                    \n",
              "2020-08-31  41.85  41.78  42.20  42.06  ...  37.86  37.91  37.79              1\n",
              "2020-09-01  41.78  42.20  42.06  42.31  ...  37.91  37.79  36.88              1\n",
              "2020-09-02  42.20  42.06  42.31  42.41  ...  37.79  36.88  37.20              1\n",
              "2020-09-03  42.06  42.31  42.41  42.85  ...  36.88  37.20  36.40              1\n",
              "2020-09-04  42.31  42.41  42.85  42.96  ...  37.20  36.40  36.36              1\n",
              "\n",
              "[5 rows x 502 columns]"
            ]
          },
          "metadata": {
            "tags": []
          },
          "execution_count": 94
        }
      ]
    },
    {
      "cell_type": "code",
      "metadata": {
        "id": "PIIXhokRPp-D"
      },
      "source": [
        "from tensorflow.keras.layers import Input, LSTM, GRU, SimpleRNN, Dense, GlobalMaxPool1D, Dropout\n",
        "from tensorflow.keras.models import Model\n",
        "from tensorflow.keras.optimizers import SGD, Adam"
      ],
      "execution_count": null,
      "outputs": []
    },
    {
      "cell_type": "code",
      "metadata": {
        "id": "Gv_loM4vPp-F"
      },
      "source": [
        "reg_df = final_df.drop('PFE week_fall',axis = 1)"
      ],
      "execution_count": null,
      "outputs": []
    },
    {
      "cell_type": "code",
      "metadata": {
        "id": "r8hkyHsmPp-J"
      },
      "source": [
        "T = 500\n",
        "D = 1 \n",
        "M = 5 "
      ],
      "execution_count": null,
      "outputs": []
    },
    {
      "cell_type": "code",
      "metadata": {
        "id": "uqP8hlYrPp-L"
      },
      "source": [
        "x = reg_df.drop('PFE',axis = 1)\n",
        "y = reg_df['PFE']"
      ],
      "execution_count": null,
      "outputs": []
    },
    {
      "cell_type": "code",
      "metadata": {
        "id": "OXzV_iMoPp-M",
        "colab": {
          "base_uri": "https://localhost:8080/",
          "height": 34
        },
        "outputId": "6f13704c-ebe0-4549-83d3-249f8ad03ad2"
      },
      "source": [
        "X = np.array(x).reshape(-1, T, 1) # Now the data should be N x T x D\n",
        "Y = np.array(y)\n",
        "N = len(X)\n",
        "print(\"X.shape\", X.shape, \"Y.shape\", Y.shape)"
      ],
      "execution_count": null,
      "outputs": [
        {
          "output_type": "stream",
          "text": [
            "X.shape (4746, 500, 1) Y.shape (4746,)\n"
          ],
          "name": "stdout"
        }
      ]
    },
    {
      "cell_type": "code",
      "metadata": {
        "id": "_lERSlE_Pp-Q"
      },
      "source": [
        "i = Input(shape=(T, 1))\n",
        "x = LSTM(5)(i)\n",
        "x = Dense(1)(x)\n",
        "model = Model(i, x)\n",
        "model.compile(\n",
        "  loss='mse',\n",
        "  optimizer=Adam(lr=0.1),\n",
        ")"
      ],
      "execution_count": null,
      "outputs": []
    },
    {
      "cell_type": "code",
      "metadata": {
        "id": "vT4LPyJ9Pp-S",
        "colab": {
          "base_uri": "https://localhost:8080/",
          "height": 1000
        },
        "outputId": "984314ca-02df-4f9d-ecd2-eaae5bf8c3fa"
      },
      "source": [
        "r = model.fit(\n",
        "  X[:3504], Y[:3504],\n",
        "  epochs= 30, \n",
        "  validation_data=(X[3504:], Y[3504:]),\n",
        ")"
      ],
      "execution_count": null,
      "outputs": [
        {
          "output_type": "stream",
          "text": [
            "Epoch 1/100\n",
            "110/110 [==============================] - 2s 19ms/step - loss: 170.2892 - val_loss: 115.0658\n",
            "Epoch 2/100\n",
            "110/110 [==============================] - 2s 16ms/step - loss: 44.9609 - val_loss: 116.2779\n",
            "Epoch 3/100\n",
            "110/110 [==============================] - 2s 16ms/step - loss: 44.9266 - val_loss: 119.4471\n",
            "Epoch 4/100\n",
            "110/110 [==============================] - 2s 16ms/step - loss: 44.9594 - val_loss: 122.4061\n",
            "Epoch 5/100\n",
            "110/110 [==============================] - 2s 16ms/step - loss: 44.9745 - val_loss: 120.0498\n",
            "Epoch 6/100\n",
            "110/110 [==============================] - 2s 16ms/step - loss: 44.9431 - val_loss: 124.5661\n",
            "Epoch 7/100\n",
            "110/110 [==============================] - 2s 16ms/step - loss: 44.9415 - val_loss: 127.0370\n",
            "Epoch 8/100\n",
            "110/110 [==============================] - 2s 16ms/step - loss: 44.9491 - val_loss: 118.9426\n",
            "Epoch 9/100\n",
            "110/110 [==============================] - 2s 16ms/step - loss: 45.0170 - val_loss: 115.6149\n",
            "Epoch 10/100\n",
            "110/110 [==============================] - 2s 16ms/step - loss: 44.9322 - val_loss: 110.9546\n",
            "Epoch 11/100\n",
            "110/110 [==============================] - 2s 16ms/step - loss: 44.9500 - val_loss: 114.3026\n",
            "Epoch 12/100\n",
            "110/110 [==============================] - 2s 16ms/step - loss: 45.0885 - val_loss: 123.8105\n",
            "Epoch 13/100\n",
            "110/110 [==============================] - 2s 16ms/step - loss: 45.0626 - val_loss: 115.5781\n",
            "Epoch 14/100\n",
            "110/110 [==============================] - 2s 16ms/step - loss: 44.9431 - val_loss: 124.0858\n",
            "Epoch 15/100\n",
            "110/110 [==============================] - 2s 16ms/step - loss: 45.0180 - val_loss: 114.0949\n",
            "Epoch 16/100\n",
            "110/110 [==============================] - 2s 16ms/step - loss: 45.0053 - val_loss: 124.1319\n",
            "Epoch 17/100\n",
            "110/110 [==============================] - 2s 15ms/step - loss: 45.0559 - val_loss: 114.2558\n",
            "Epoch 18/100\n",
            "110/110 [==============================] - 2s 16ms/step - loss: 44.9758 - val_loss: 123.7566\n",
            "Epoch 19/100\n",
            "110/110 [==============================] - 2s 16ms/step - loss: 45.0783 - val_loss: 115.5463\n",
            "Epoch 20/100\n",
            "110/110 [==============================] - 2s 16ms/step - loss: 32.1786 - val_loss: 41.5960\n",
            "Epoch 21/100\n",
            "110/110 [==============================] - 2s 16ms/step - loss: 8.3798 - val_loss: 27.1315\n",
            "Epoch 22/100\n",
            "110/110 [==============================] - 2s 16ms/step - loss: 5.5818 - val_loss: 21.0147\n",
            "Epoch 23/100\n",
            "110/110 [==============================] - 2s 16ms/step - loss: 3.9481 - val_loss: 14.8942\n",
            "Epoch 24/100\n",
            "110/110 [==============================] - 2s 16ms/step - loss: 3.0399 - val_loss: 12.9310\n",
            "Epoch 25/100\n",
            "110/110 [==============================] - 2s 16ms/step - loss: 2.3224 - val_loss: 10.2966\n",
            "Epoch 26/100\n",
            "110/110 [==============================] - 2s 16ms/step - loss: 2.2846 - val_loss: 9.1910\n",
            "Epoch 27/100\n",
            "110/110 [==============================] - 2s 16ms/step - loss: 2.1130 - val_loss: 8.5140\n",
            "Epoch 28/100\n",
            "110/110 [==============================] - 2s 16ms/step - loss: 1.7360 - val_loss: 6.7412\n",
            "Epoch 29/100\n",
            "110/110 [==============================] - 2s 16ms/step - loss: 1.3765 - val_loss: 5.4773\n",
            "Epoch 30/100\n",
            "110/110 [==============================] - 2s 16ms/step - loss: 1.6376 - val_loss: 5.2045\n",
            "Epoch 31/100\n",
            "110/110 [==============================] - 2s 16ms/step - loss: 1.4490 - val_loss: 5.1767\n",
            "Epoch 32/100\n",
            "110/110 [==============================] - 2s 16ms/step - loss: 1.1217 - val_loss: 4.5189\n",
            "Epoch 33/100\n",
            "110/110 [==============================] - 2s 16ms/step - loss: 1.1868 - val_loss: 4.9155\n",
            "Epoch 34/100\n",
            "110/110 [==============================] - 2s 16ms/step - loss: 0.9664 - val_loss: 4.1319\n",
            "Epoch 35/100\n",
            "110/110 [==============================] - 2s 16ms/step - loss: 1.1259 - val_loss: 3.9910\n",
            "Epoch 36/100\n",
            "110/110 [==============================] - 2s 16ms/step - loss: 1.0361 - val_loss: 3.5490\n",
            "Epoch 37/100\n",
            "110/110 [==============================] - 2s 16ms/step - loss: 0.9036 - val_loss: 3.8347\n",
            "Epoch 38/100\n",
            "110/110 [==============================] - 2s 16ms/step - loss: 0.8957 - val_loss: 2.9282\n",
            "Epoch 39/100\n",
            "110/110 [==============================] - 2s 16ms/step - loss: 0.9772 - val_loss: 3.1288\n",
            "Epoch 40/100\n",
            "110/110 [==============================] - 2s 16ms/step - loss: 0.7345 - val_loss: 2.6114\n",
            "Epoch 41/100\n",
            "110/110 [==============================] - 2s 16ms/step - loss: 1.5928 - val_loss: 2.8854\n",
            "Epoch 42/100\n",
            "110/110 [==============================] - 2s 16ms/step - loss: 0.8097 - val_loss: 2.5652\n",
            "Epoch 43/100\n",
            "110/110 [==============================] - 2s 16ms/step - loss: 1.0111 - val_loss: 2.6448\n",
            "Epoch 44/100\n",
            "110/110 [==============================] - 2s 16ms/step - loss: 0.7568 - val_loss: 2.5844\n",
            "Epoch 45/100\n",
            "110/110 [==============================] - 2s 16ms/step - loss: 0.8760 - val_loss: 2.3397\n",
            "Epoch 46/100\n",
            "110/110 [==============================] - 2s 16ms/step - loss: 0.7858 - val_loss: 2.2184\n",
            "Epoch 47/100\n",
            "110/110 [==============================] - 2s 16ms/step - loss: 1.2597 - val_loss: 2.4440\n",
            "Epoch 48/100\n",
            "110/110 [==============================] - 2s 16ms/step - loss: 0.7540 - val_loss: 2.2262\n",
            "Epoch 49/100\n",
            "110/110 [==============================] - 2s 16ms/step - loss: 0.7197 - val_loss: 3.6905\n",
            "Epoch 50/100\n",
            "110/110 [==============================] - 2s 16ms/step - loss: 1.1241 - val_loss: 2.1796\n",
            "Epoch 51/100\n",
            "110/110 [==============================] - 2s 16ms/step - loss: 0.7504 - val_loss: 2.2817\n",
            "Epoch 52/100\n",
            "110/110 [==============================] - 2s 16ms/step - loss: 0.6497 - val_loss: 1.8848\n",
            "Epoch 53/100\n",
            "110/110 [==============================] - 2s 16ms/step - loss: 1.1898 - val_loss: 3.4779\n",
            "Epoch 54/100\n",
            "110/110 [==============================] - 2s 16ms/step - loss: 0.9477 - val_loss: 2.5075\n",
            "Epoch 55/100\n",
            "110/110 [==============================] - 2s 16ms/step - loss: 0.8032 - val_loss: 2.1316\n",
            "Epoch 56/100\n",
            "110/110 [==============================] - 2s 16ms/step - loss: 0.6416 - val_loss: 1.8356\n",
            "Epoch 57/100\n",
            "110/110 [==============================] - 2s 16ms/step - loss: 0.6644 - val_loss: 1.8843\n",
            "Epoch 58/100\n",
            "110/110 [==============================] - 2s 16ms/step - loss: 0.7277 - val_loss: 2.6269\n",
            "Epoch 59/100\n",
            "110/110 [==============================] - 2s 16ms/step - loss: 0.7171 - val_loss: 1.8565\n",
            "Epoch 60/100\n",
            "110/110 [==============================] - 2s 16ms/step - loss: 0.6645 - val_loss: 2.1029\n",
            "Epoch 61/100\n",
            "110/110 [==============================] - 2s 16ms/step - loss: 0.8350 - val_loss: 1.8822\n",
            "Epoch 62/100\n",
            "110/110 [==============================] - 2s 16ms/step - loss: 0.8968 - val_loss: 2.8415\n",
            "Epoch 63/100\n",
            "110/110 [==============================] - 2s 16ms/step - loss: 0.9596 - val_loss: 1.9615\n",
            "Epoch 64/100\n",
            "110/110 [==============================] - 2s 15ms/step - loss: 0.7154 - val_loss: 2.5403\n",
            "Epoch 65/100\n",
            "110/110 [==============================] - 2s 16ms/step - loss: 0.5977 - val_loss: 1.7763\n",
            "Epoch 66/100\n",
            "110/110 [==============================] - 2s 16ms/step - loss: 0.7190 - val_loss: 2.8415\n",
            "Epoch 67/100\n",
            "110/110 [==============================] - 2s 16ms/step - loss: 0.8262 - val_loss: 2.3454\n",
            "Epoch 68/100\n",
            "110/110 [==============================] - 2s 16ms/step - loss: 0.6328 - val_loss: 2.0680\n",
            "Epoch 69/100\n",
            "110/110 [==============================] - 2s 16ms/step - loss: 0.7456 - val_loss: 1.9798\n",
            "Epoch 70/100\n",
            "110/110 [==============================] - 2s 16ms/step - loss: 0.6057 - val_loss: 2.4301\n",
            "Epoch 71/100\n",
            "110/110 [==============================] - 2s 16ms/step - loss: 1.4083 - val_loss: 2.0659\n",
            "Epoch 72/100\n",
            "110/110 [==============================] - 2s 16ms/step - loss: 0.6307 - val_loss: 1.6575\n",
            "Epoch 73/100\n",
            "110/110 [==============================] - 2s 16ms/step - loss: 0.7789 - val_loss: 1.5874\n",
            "Epoch 74/100\n",
            "110/110 [==============================] - 2s 16ms/step - loss: 0.5896 - val_loss: 2.2301\n",
            "Epoch 75/100\n",
            "110/110 [==============================] - 2s 16ms/step - loss: 1.1524 - val_loss: 1.8680\n",
            "Epoch 76/100\n",
            "110/110 [==============================] - 2s 16ms/step - loss: 0.7589 - val_loss: 1.7875\n",
            "Epoch 77/100\n",
            "110/110 [==============================] - 2s 16ms/step - loss: 0.8163 - val_loss: 7.4596\n",
            "Epoch 78/100\n",
            "110/110 [==============================] - 2s 16ms/step - loss: 1.1094 - val_loss: 1.9443\n",
            "Epoch 79/100\n",
            "110/110 [==============================] - 2s 16ms/step - loss: 0.5210 - val_loss: 1.7545\n",
            "Epoch 80/100\n",
            "110/110 [==============================] - 2s 16ms/step - loss: 0.5850 - val_loss: 1.7464\n",
            "Epoch 81/100\n",
            "110/110 [==============================] - 2s 16ms/step - loss: 0.5520 - val_loss: 2.1354\n",
            "Epoch 82/100\n",
            "110/110 [==============================] - 2s 16ms/step - loss: 0.6253 - val_loss: 3.6491\n",
            "Epoch 83/100\n",
            "110/110 [==============================] - 2s 16ms/step - loss: 0.6602 - val_loss: 2.2820\n",
            "Epoch 84/100\n",
            "110/110 [==============================] - 2s 16ms/step - loss: 0.7293 - val_loss: 2.2695\n",
            "Epoch 85/100\n",
            "110/110 [==============================] - 2s 16ms/step - loss: 0.7523 - val_loss: 1.5840\n",
            "Epoch 86/100\n",
            "110/110 [==============================] - 2s 16ms/step - loss: 0.8020 - val_loss: 2.5328\n",
            "Epoch 87/100\n",
            "110/110 [==============================] - 2s 16ms/step - loss: 0.8211 - val_loss: 2.5330\n",
            "Epoch 88/100\n",
            "110/110 [==============================] - 2s 16ms/step - loss: 0.5621 - val_loss: 2.6193\n",
            "Epoch 89/100\n",
            "110/110 [==============================] - 2s 16ms/step - loss: 0.7404 - val_loss: 1.5698\n",
            "Epoch 90/100\n",
            "110/110 [==============================] - 2s 16ms/step - loss: 0.7440 - val_loss: 1.6370\n",
            "Epoch 91/100\n",
            "110/110 [==============================] - 2s 16ms/step - loss: 0.6151 - val_loss: 2.0084\n",
            "Epoch 92/100\n",
            "110/110 [==============================] - 2s 16ms/step - loss: 0.6852 - val_loss: 1.4938\n",
            "Epoch 93/100\n",
            "110/110 [==============================] - 2s 16ms/step - loss: 0.8210 - val_loss: 1.7142\n",
            "Epoch 94/100\n",
            "110/110 [==============================] - 2s 16ms/step - loss: 0.6133 - val_loss: 1.4175\n",
            "Epoch 95/100\n",
            "110/110 [==============================] - 2s 16ms/step - loss: 0.5891 - val_loss: 1.4104\n",
            "Epoch 96/100\n",
            "110/110 [==============================] - 2s 16ms/step - loss: 0.6548 - val_loss: 1.9024\n",
            "Epoch 97/100\n",
            "110/110 [==============================] - 2s 16ms/step - loss: 0.7610 - val_loss: 1.4813\n",
            "Epoch 98/100\n",
            "110/110 [==============================] - 2s 16ms/step - loss: 0.7796 - val_loss: 1.7340\n",
            "Epoch 99/100\n",
            "110/110 [==============================] - 2s 16ms/step - loss: 0.5656 - val_loss: 1.5017\n",
            "Epoch 100/100\n",
            "110/110 [==============================] - 2s 16ms/step - loss: 0.5667 - val_loss: 3.7876\n"
          ],
          "name": "stdout"
        }
      ]
    },
    {
      "cell_type": "code",
      "metadata": {
        "id": "iRgRH2rBuzVT"
      },
      "source": [
        "#TODO - add loss function code "
      ],
      "execution_count": null,
      "outputs": []
    },
    {
      "cell_type": "code",
      "metadata": {
        "id": "BhVt0rg0XtUM",
        "colab": {
          "base_uri": "https://localhost:8080/",
          "height": 438
        },
        "outputId": "13d15051-21d6-42b8-fdf3-70368abf0640"
      },
      "source": [
        "outputs = model.predict(X)\n",
        "print(outputs.shape)\n",
        "predictions = outputs[:,0]\n",
        "\n",
        "plt.figure(figsize = (12,6))\n",
        "\n",
        "plt.plot(Y, label='targets')\n",
        "plt.plot(predictions, label='predictions')\n",
        "plt.legend()\n",
        "\n",
        "plt.xlabel(\"Time series data\")\n",
        "plt.ylabel(\"normalized stock price\")\n",
        "plt.title(\"Pfizer \")"
      ],
      "execution_count": null,
      "outputs": [
        {
          "output_type": "stream",
          "text": [
            "(4746, 1)\n"
          ],
          "name": "stdout"
        },
        {
          "output_type": "execute_result",
          "data": {
            "text/plain": [
              "Text(0.5, 1.0, 'Pfizer ')"
            ]
          },
          "metadata": {
            "tags": []
          },
          "execution_count": 102
        },
        {
          "output_type": "display_data",
          "data": {
            "image/png": "[encoded data removed]",
            "text/plain": [
              "<Figure size 864x432 with 1 Axes>"
            ]
          },
          "metadata": {
            "tags": []
          }
        }
      ]
    },
    {
      "cell_type": "code",
      "metadata": {
        "id": "W2uSsQqRTbuF"
      },
      "source": [
        "y_target = Y[3504:]\n",
        "y_predictions = []\n",
        "y_fall = []\n",
        "\n",
        "# index of first test input\n",
        "i = 3504\n",
        "\n",
        "while len(y_predictions) < len(y_target):\n",
        "  fall = 0\n",
        "  p = model.predict(X[i].reshape(1, -1, 1))[0,0] # 1x1 array -> scalar\n",
        "  t = p #predicted price \n",
        "  t_dash = X[i-7].reshape(1, -1, 1)[0,0] #price one week ago \n",
        "  if (((t-t_dash)/t_dash) * 100 < -2): \n",
        "    fall = 1\n",
        "  i += 1\n",
        "  \n",
        "  y_fall.append(fall)\n",
        "  y_predictions.append(p)"
      ],
      "execution_count": null,
      "outputs": []
    },
    {
      "cell_type": "code",
      "metadata": {
        "id": "tB9Xl1v-zYzI"
      },
      "source": [
        "y_test = final_df['PFE week_fall'].iloc[3504:].values"
      ],
      "execution_count": null,
      "outputs": []
    },
    {
      "cell_type": "code",
      "metadata": {
        "id": "Ajl-3IVAZlFI"
      },
      "source": [
        "from sklearn.metrics import confusion_matrix, classification_report, accuracy_score"
      ],
      "execution_count": null,
      "outputs": []
    },
    {
      "cell_type": "code",
      "metadata": {
        "id": "iX_FXtSVpDFu",
        "colab": {
          "base_uri": "https://localhost:8080/",
          "height": 255
        },
        "outputId": "48d1d2c4-6a8d-4349-a703-53a9595ee4e2"
      },
      "source": [
        "print(1, ' layer and 50 nodes in each layer')\n",
        "print(classification_report(y_test,y_fall))\n",
        "print('\\n')\n",
        "print(confusion_matrix(y_test, y_fall))"
      ],
      "execution_count": null,
      "outputs": [
        {
          "output_type": "stream",
          "text": [
            "1  layer and 50 nodes in each layer\n",
            "              precision    recall  f1-score   support\n",
            "\n",
            "           0       0.88      0.73      0.80      1376\n",
            "           1       0.38      0.62      0.47       359\n",
            "\n",
            "    accuracy                           0.71      1735\n",
            "   macro avg       0.63      0.67      0.63      1735\n",
            "weighted avg       0.78      0.71      0.73      1735\n",
            "\n",
            "\n",
            "\n",
            "[[1010  366]\n",
            " [ 138  221]]\n"
          ],
          "name": "stdout"
        }
      ]
    },
    {
      "cell_type": "code",
      "metadata": {
        "id": "trTenQZFS7tt"
      },
      "source": [
        "len(X[3504].reshape(1,-1,1)[0])\n",
        "#500 elements in this arrray "
      ],
      "execution_count": null,
      "outputs": []
    },
    {
      "cell_type": "code",
      "metadata": {
        "id": "G6mmR75Sq3Ir"
      },
      "source": [
        "from sklearn.metrics import mean_absolute_error, balanced_accuracy_score"
      ],
      "execution_count": null,
      "outputs": []
    },
    {
      "cell_type": "code",
      "metadata": {
        "id": "75mJmMAJ992s"
      },
      "source": [
        "print(balanced_accuracy_score(y_fall, y_test))"
      ],
      "execution_count": null,
      "outputs": []
    },
    {
      "cell_type": "code",
      "metadata": {
        "id": "vXXt7uqxgF_w"
      },
      "source": [
        "y_predictions = np.array(y_predictions)\n",
        "print(\"mean absolute error is \" , mean_absolute_error(y_target, y_predictions))\n",
        "print(\"mean squared error is \", np.sqrt(mean_absolute_error(y_target, y_predictions)))"
      ],
      "execution_count": null,
      "outputs": []
    },
    {
      "cell_type": "markdown",
      "metadata": {
        "id": "JCNG3xRL8wiN"
      },
      "source": [
        "Code for predicting the price in the next year below with just one input dataset\n",
        "\n",
        "\n",
        "\n",
        "\n"
      ]
    },
    {
      "cell_type": "code",
      "metadata": {
        "id": "nWIdBteFzpro",
        "colab": {
          "base_uri": "https://localhost:8080/",
          "height": 282
        },
        "outputId": "9225b5c6-491d-4872-f03c-ff06ce0b0965"
      },
      "source": [
        "# Multi-step forecast to predict the price after one year \n",
        "validation_target = Y[4300:]\n",
        "validation_predictions = []\n",
        "\n",
        "# first input - 31 dec 2015 \n",
        "last_x = X[4300] # 1-D array of length T\n",
        "\n",
        "while len(validation_predictions) < 366:\n",
        "  p = model.predict(last_x.reshape(1, T, 1))[0,0] # 1x1 array -> scalar\n",
        "  \n",
        "  # predictions list \n",
        "  validation_predictions.append(p)\n",
        "  \n",
        "  # take the output and insert in new input \n",
        "  last_x = np.roll(last_x, -1)\n",
        "  last_x[-1] = p\n",
        "\n",
        "plt.plot(validation_target, label='forecast target')\n",
        "plt.plot(validation_predictions, label='forecast prediction')\n",
        "plt.legend()"
      ],
      "execution_count": null,
      "outputs": [
        {
          "output_type": "execute_result",
          "data": {
            "text/plain": [
              "<matplotlib.legend.Legend at 0x7f7b2f6aa860>"
            ]
          },
          "metadata": {
            "tags": []
          },
          "execution_count": 114
        },
        {
          "output_type": "display_data",
          "data": {
            "image/png": "[encoded data removed]",
            "text/plain": [
              "<Figure size 432x288 with 1 Axes>"
            ]
          },
          "metadata": {
            "tags": []
          }
        }
      ]
    },
    {
      "cell_type": "code",
      "metadata": {
        "id": "ZlBUh3j0sJuN",
        "colab": {
          "base_uri": "https://localhost:8080/",
          "height": 51
        },
        "outputId": "c80b25d6-7f6a-485f-9772-e9fe3d7d1558"
      },
      "source": [
        "print(\"predicted is $ \", validation_predictions[-1])\n",
        "print(\"targetted is $ \", validation_target[366])"
      ],
      "execution_count": null,
      "outputs": [
        {
          "output_type": "stream",
          "text": [
            "predicted is $  15.238487\n",
            "targetted is $  42.48\n"
          ],
          "name": "stdout"
        }
      ]
    },
    {
      "cell_type": "code",
      "metadata": {
        "id": "VFH4tQklVc8B"
      },
      "source": [
        "# Multi-step forecast \n",
        "y_target = Y[3504:]\n",
        "y_predictions = []\n",
        "y_fall = []\n",
        "\n",
        "# first validation input\n",
        "last_x = X[3000] # 1-D array of length T\n",
        "\n",
        "while len(validation_predictions) < len(validation_target):\n",
        "  p = model.predict(last_x.reshape(1, T, 1))[0,0] # 1x1 array -> scalar\n",
        "    t = p #predicted price \n",
        "  t_dash = X[i-7].reshape(1, -1, 1)[0,0] #price one week ago \n",
        "  if (((t-t_dash)/t_dash) * 100 < -2): \n",
        "    fall = 1\n",
        "  i += 1\n",
        "  \n",
        "  # update the predictions list\n",
        "  validation_predictions.append(p)\n",
        "  \n",
        "  # make the new input\n",
        "  last_x = np.roll(last_x, -1)\n",
        "  last_x[-1] = p"
      ],
      "execution_count": null,
      "outputs": []
    },
    {
      "cell_type": "code",
      "metadata": {
        "id": "UVg87E7fVyep"
      },
      "source": [
        "# plt.plot(validation_target, label='forecast target')\n",
        "# plt.plot(validation_predictions, label='forecast prediction')\n",
        "# plt.legend()"
      ],
      "execution_count": null,
      "outputs": []
    },
    {
      "cell_type": "code",
      "metadata": {
        "id": "gzLNZwmHZi_o"
      },
      "source": [
        "# validation_predictions = np.array(validation_predictions)\n",
        "# print(\"mean absolute error is \" , mean_absolute_error(validation_target, validation_predictions))\n",
        "# print(\"mean squared error is \", np.sqrt(mean_absolute_error(validation_predictions, validation_target)))"
      ],
      "execution_count": null,
      "outputs": []
    },
    {
      "cell_type": "code",
      "metadata": {
        "id": "UFxe3aFRlZfy"
      },
      "source": [
        "!pip install fbprophet"
      ],
      "execution_count": null,
      "outputs": []
    },
    {
      "cell_type": "code",
      "metadata": {
        "id": "Tlcqo-hSpt85"
      },
      "source": [
        "prophet_df = final_df['PFE']"
      ],
      "execution_count": null,
      "outputs": []
    },
    {
      "cell_type": "code",
      "metadata": {
        "id": "RqWuok0aqRQh"
      },
      "source": [
        "prophet_df = final_df.rename(columns = {'PFE':'y','date':'ds'})"
      ],
      "execution_count": null,
      "outputs": []
    },
    {
      "cell_type": "code",
      "metadata": {
        "id": "BGatNCsZqzb-"
      },
      "source": [
        "prophet_df.head()"
      ],
      "execution_count": null,
      "outputs": []
    },
    {
      "cell_type": "code",
      "metadata": {
        "id": "kGWueC9QrjBA"
      },
      "source": [
        "prophet = stock_df.reset_index()"
      ],
      "execution_count": null,
      "outputs": []
    },
    {
      "cell_type": "code",
      "metadata": {
        "id": "-6DTdz-NryiX"
      },
      "source": [
        "prophet = prophet[['date', 'PFE']]"
      ],
      "execution_count": null,
      "outputs": []
    },
    {
      "cell_type": "code",
      "metadata": {
        "id": "B3bNlsuQtpBB"
      },
      "source": [
        "prophet.columns = ['ds','y']"
      ],
      "execution_count": null,
      "outputs": []
    },
    {
      "cell_type": "code",
      "metadata": {
        "id": "EQcmVpo-uLfT"
      },
      "source": [
        "from fbprophet import Prophet\n",
        "m = Prophet(daily_seasonality = True) # the Prophet class (model)\n",
        "m.fit(prophet) "
      ],
      "execution_count": null,
      "outputs": []
    },
    {
      "cell_type": "code",
      "metadata": {
        "id": "0ELJvatVuUBt"
      },
      "source": [
        "future = m.make_future_dataframe(periods=365) #we need to specify the number of days in future\n",
        "prediction = m.predict(future)\n",
        "m.plot(prediction)\n",
        "plt.title(\"Prediction of the Pfizer stock price using Facebook Prophet\")\n",
        "plt.xlabel(\"Date\")\n",
        "plt.ylabel(\"Close Stock Price\")\n",
        "plt.show()"
      ],
      "execution_count": null,
      "outputs": []
    },
    {
      "cell_type": "code",
      "metadata": {
        "id": "M8v23qQrqyLW"
      },
      "source": [
        "# acc = round(accuracy_score(y_fall, y_test) * 100,1)\n",
        "# accuracy_10[num_layers] = acc"
      ],
      "execution_count": null,
      "outputs": []
    },
    {
      "cell_type": "code",
      "metadata": {
        "id": "HVIKi-Gwn9GX",
        "colab": {
          "base_uri": "https://localhost:8080/",
          "height": 34
        },
        "outputId": "34ad7c96-e088-4e46-f933-085d0f506f21"
      },
      "source": [
        "new_df = final_df.reset_index()\n",
        "new_df[new_df['date'] == '2015-12-31'].index"
      ],
      "execution_count": null,
      "outputs": [
        {
          "output_type": "execute_result",
          "data": {
            "text/plain": [
              "Int64Index([4060], dtype='int64')"
            ]
          },
          "metadata": {
            "tags": []
          },
          "execution_count": 80
        }
      ]
    },
    {
      "cell_type": "code",
      "metadata": {
        "id": "z6ocAbe1oEcE",
        "colab": {
          "base_uri": "https://localhost:8080/",
          "height": 34
        },
        "outputId": "4cedf098-282c-4f0c-9ba9-22463151ee3d"
      },
      "source": [
        "new_df[new_df['date'] == '2017-01-03'].index"
      ],
      "execution_count": null,
      "outputs": [
        {
          "output_type": "execute_result",
          "data": {
            "text/plain": [
              "Int64Index([4313], dtype='int64')"
            ]
          },
          "metadata": {
            "tags": []
          },
          "execution_count": 84
        }
      ]
    },
    {
      "cell_type": "code",
      "metadata": {
        "id": "nK0jB_0SqADP"
      },
      "source": [
        ""
      ],
      "execution_count": null,
      "outputs": []
    }
  ]
}